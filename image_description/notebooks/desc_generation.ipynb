{
  "nbformat": 4,
  "nbformat_minor": 0,
  "metadata": {
    "colab": {
      "provenance": [],
      "machine_shape": "hm",
      "gpuType": "A100"
    },
    "kernelspec": {
      "name": "python3",
      "display_name": "Python 3"
    },
    "language_info": {
      "name": "python"
    },
    "accelerator": "GPU",
    "widgets": {
      "application/vnd.jupyter.widget-state+json": {
        "fbff68590e9747fd92d878e491254c03": {
          "model_module": "@jupyter-widgets/controls",
          "model_name": "HBoxModel",
          "model_module_version": "1.5.0",
          "state": {
            "_dom_classes": [],
            "_model_module": "@jupyter-widgets/controls",
            "_model_module_version": "1.5.0",
            "_model_name": "HBoxModel",
            "_view_count": null,
            "_view_module": "@jupyter-widgets/controls",
            "_view_module_version": "1.5.0",
            "_view_name": "HBoxView",
            "box_style": "",
            "children": [
              "IPY_MODEL_e03bdcb96e724d678e08c23f465403b3",
              "IPY_MODEL_5b77f27f2b3049a7bd1ded77d444b812",
              "IPY_MODEL_40dbe550aa1a41659bdf4319b19d900c"
            ],
            "layout": "IPY_MODEL_16dc9db027e74896ad007ada328914be"
          }
        },
        "e03bdcb96e724d678e08c23f465403b3": {
          "model_module": "@jupyter-widgets/controls",
          "model_name": "HTMLModel",
          "model_module_version": "1.5.0",
          "state": {
            "_dom_classes": [],
            "_model_module": "@jupyter-widgets/controls",
            "_model_module_version": "1.5.0",
            "_model_name": "HTMLModel",
            "_view_count": null,
            "_view_module": "@jupyter-widgets/controls",
            "_view_module_version": "1.5.0",
            "_view_name": "HTMLView",
            "description": "",
            "description_tooltip": null,
            "layout": "IPY_MODEL_e37a4bddba644064970395ecac017435",
            "placeholder": "​",
            "style": "IPY_MODEL_49af41ed9f8b47288057c20d7c64e1dc",
            "value": "Loading checkpoint shards: 100%"
          }
        },
        "5b77f27f2b3049a7bd1ded77d444b812": {
          "model_module": "@jupyter-widgets/controls",
          "model_name": "FloatProgressModel",
          "model_module_version": "1.5.0",
          "state": {
            "_dom_classes": [],
            "_model_module": "@jupyter-widgets/controls",
            "_model_module_version": "1.5.0",
            "_model_name": "FloatProgressModel",
            "_view_count": null,
            "_view_module": "@jupyter-widgets/controls",
            "_view_module_version": "1.5.0",
            "_view_name": "ProgressView",
            "bar_style": "success",
            "description": "",
            "description_tooltip": null,
            "layout": "IPY_MODEL_5abb390d8ccf4de9ac264164377c5702",
            "max": 3,
            "min": 0,
            "orientation": "horizontal",
            "style": "IPY_MODEL_8239cb2c77f74eefb38fa06c662ff8e7",
            "value": 3
          }
        },
        "40dbe550aa1a41659bdf4319b19d900c": {
          "model_module": "@jupyter-widgets/controls",
          "model_name": "HTMLModel",
          "model_module_version": "1.5.0",
          "state": {
            "_dom_classes": [],
            "_model_module": "@jupyter-widgets/controls",
            "_model_module_version": "1.5.0",
            "_model_name": "HTMLModel",
            "_view_count": null,
            "_view_module": "@jupyter-widgets/controls",
            "_view_module_version": "1.5.0",
            "_view_name": "HTMLView",
            "description": "",
            "description_tooltip": null,
            "layout": "IPY_MODEL_a1eb0a739e4844c7934824c4f9a7e8ed",
            "placeholder": "​",
            "style": "IPY_MODEL_5dd3ed158e2c48ae8145a39d79c20799",
            "value": " 3/3 [00:03&lt;00:00,  1.25s/it]"
          }
        },
        "16dc9db027e74896ad007ada328914be": {
          "model_module": "@jupyter-widgets/base",
          "model_name": "LayoutModel",
          "model_module_version": "1.2.0",
          "state": {
            "_model_module": "@jupyter-widgets/base",
            "_model_module_version": "1.2.0",
            "_model_name": "LayoutModel",
            "_view_count": null,
            "_view_module": "@jupyter-widgets/base",
            "_view_module_version": "1.2.0",
            "_view_name": "LayoutView",
            "align_content": null,
            "align_items": null,
            "align_self": null,
            "border": null,
            "bottom": null,
            "display": null,
            "flex": null,
            "flex_flow": null,
            "grid_area": null,
            "grid_auto_columns": null,
            "grid_auto_flow": null,
            "grid_auto_rows": null,
            "grid_column": null,
            "grid_gap": null,
            "grid_row": null,
            "grid_template_areas": null,
            "grid_template_columns": null,
            "grid_template_rows": null,
            "height": null,
            "justify_content": null,
            "justify_items": null,
            "left": null,
            "margin": null,
            "max_height": null,
            "max_width": null,
            "min_height": null,
            "min_width": null,
            "object_fit": null,
            "object_position": null,
            "order": null,
            "overflow": null,
            "overflow_x": null,
            "overflow_y": null,
            "padding": null,
            "right": null,
            "top": null,
            "visibility": null,
            "width": null
          }
        },
        "e37a4bddba644064970395ecac017435": {
          "model_module": "@jupyter-widgets/base",
          "model_name": "LayoutModel",
          "model_module_version": "1.2.0",
          "state": {
            "_model_module": "@jupyter-widgets/base",
            "_model_module_version": "1.2.0",
            "_model_name": "LayoutModel",
            "_view_count": null,
            "_view_module": "@jupyter-widgets/base",
            "_view_module_version": "1.2.0",
            "_view_name": "LayoutView",
            "align_content": null,
            "align_items": null,
            "align_self": null,
            "border": null,
            "bottom": null,
            "display": null,
            "flex": null,
            "flex_flow": null,
            "grid_area": null,
            "grid_auto_columns": null,
            "grid_auto_flow": null,
            "grid_auto_rows": null,
            "grid_column": null,
            "grid_gap": null,
            "grid_row": null,
            "grid_template_areas": null,
            "grid_template_columns": null,
            "grid_template_rows": null,
            "height": null,
            "justify_content": null,
            "justify_items": null,
            "left": null,
            "margin": null,
            "max_height": null,
            "max_width": null,
            "min_height": null,
            "min_width": null,
            "object_fit": null,
            "object_position": null,
            "order": null,
            "overflow": null,
            "overflow_x": null,
            "overflow_y": null,
            "padding": null,
            "right": null,
            "top": null,
            "visibility": null,
            "width": null
          }
        },
        "49af41ed9f8b47288057c20d7c64e1dc": {
          "model_module": "@jupyter-widgets/controls",
          "model_name": "DescriptionStyleModel",
          "model_module_version": "1.5.0",
          "state": {
            "_model_module": "@jupyter-widgets/controls",
            "_model_module_version": "1.5.0",
            "_model_name": "DescriptionStyleModel",
            "_view_count": null,
            "_view_module": "@jupyter-widgets/base",
            "_view_module_version": "1.2.0",
            "_view_name": "StyleView",
            "description_width": ""
          }
        },
        "5abb390d8ccf4de9ac264164377c5702": {
          "model_module": "@jupyter-widgets/base",
          "model_name": "LayoutModel",
          "model_module_version": "1.2.0",
          "state": {
            "_model_module": "@jupyter-widgets/base",
            "_model_module_version": "1.2.0",
            "_model_name": "LayoutModel",
            "_view_count": null,
            "_view_module": "@jupyter-widgets/base",
            "_view_module_version": "1.2.0",
            "_view_name": "LayoutView",
            "align_content": null,
            "align_items": null,
            "align_self": null,
            "border": null,
            "bottom": null,
            "display": null,
            "flex": null,
            "flex_flow": null,
            "grid_area": null,
            "grid_auto_columns": null,
            "grid_auto_flow": null,
            "grid_auto_rows": null,
            "grid_column": null,
            "grid_gap": null,
            "grid_row": null,
            "grid_template_areas": null,
            "grid_template_columns": null,
            "grid_template_rows": null,
            "height": null,
            "justify_content": null,
            "justify_items": null,
            "left": null,
            "margin": null,
            "max_height": null,
            "max_width": null,
            "min_height": null,
            "min_width": null,
            "object_fit": null,
            "object_position": null,
            "order": null,
            "overflow": null,
            "overflow_x": null,
            "overflow_y": null,
            "padding": null,
            "right": null,
            "top": null,
            "visibility": null,
            "width": null
          }
        },
        "8239cb2c77f74eefb38fa06c662ff8e7": {
          "model_module": "@jupyter-widgets/controls",
          "model_name": "ProgressStyleModel",
          "model_module_version": "1.5.0",
          "state": {
            "_model_module": "@jupyter-widgets/controls",
            "_model_module_version": "1.5.0",
            "_model_name": "ProgressStyleModel",
            "_view_count": null,
            "_view_module": "@jupyter-widgets/base",
            "_view_module_version": "1.2.0",
            "_view_name": "StyleView",
            "bar_color": null,
            "description_width": ""
          }
        },
        "a1eb0a739e4844c7934824c4f9a7e8ed": {
          "model_module": "@jupyter-widgets/base",
          "model_name": "LayoutModel",
          "model_module_version": "1.2.0",
          "state": {
            "_model_module": "@jupyter-widgets/base",
            "_model_module_version": "1.2.0",
            "_model_name": "LayoutModel",
            "_view_count": null,
            "_view_module": "@jupyter-widgets/base",
            "_view_module_version": "1.2.0",
            "_view_name": "LayoutView",
            "align_content": null,
            "align_items": null,
            "align_self": null,
            "border": null,
            "bottom": null,
            "display": null,
            "flex": null,
            "flex_flow": null,
            "grid_area": null,
            "grid_auto_columns": null,
            "grid_auto_flow": null,
            "grid_auto_rows": null,
            "grid_column": null,
            "grid_gap": null,
            "grid_row": null,
            "grid_template_areas": null,
            "grid_template_columns": null,
            "grid_template_rows": null,
            "height": null,
            "justify_content": null,
            "justify_items": null,
            "left": null,
            "margin": null,
            "max_height": null,
            "max_width": null,
            "min_height": null,
            "min_width": null,
            "object_fit": null,
            "object_position": null,
            "order": null,
            "overflow": null,
            "overflow_x": null,
            "overflow_y": null,
            "padding": null,
            "right": null,
            "top": null,
            "visibility": null,
            "width": null
          }
        },
        "5dd3ed158e2c48ae8145a39d79c20799": {
          "model_module": "@jupyter-widgets/controls",
          "model_name": "DescriptionStyleModel",
          "model_module_version": "1.5.0",
          "state": {
            "_model_module": "@jupyter-widgets/controls",
            "_model_module_version": "1.5.0",
            "_model_name": "DescriptionStyleModel",
            "_view_count": null,
            "_view_module": "@jupyter-widgets/base",
            "_view_module_version": "1.2.0",
            "_view_name": "StyleView",
            "description_width": ""
          }
        }
      }
    }
  },
  "cells": [
    {
      "cell_type": "code",
      "source": [
        "import os\n",
        "import json\n",
        "import logging\n",
        "from PIL import Image\n",
        "import torch\n",
        "from transformers import AutoProcessor,LlavaForConditionalGeneration, AutoTokenizer"
      ],
      "metadata": {
        "id": "1ooSVinNgcqC"
      },
      "execution_count": null,
      "outputs": []
    },
    {
      "cell_type": "code",
      "source": [
        "from google.colab import drive\n",
        "drive.mount('/content/drive')"
      ],
      "metadata": {
        "colab": {
          "base_uri": "https://localhost:8080/"
        },
        "id": "oIGUTR-mgeKJ",
        "outputId": "1a6969b7-dc69-4237-cbbf-eea44b043c9e"
      },
      "execution_count": null,
      "outputs": [
        {
          "output_type": "stream",
          "name": "stdout",
          "text": [
            "Drive already mounted at /content/drive; to attempt to forcibly remount, call drive.mount(\"/content/drive\", force_remount=True).\n"
          ]
        }
      ]
    },
    {
      "cell_type": "code",
      "source": [
        "# Configure logging for production-ready output.\n",
        "logging.basicConfig(level=logging.INFO, format=\"%(asctime)s %(levelname)s: %(message)s\")\n",
        "\n",
        "# Define the class mapping.\n",
        "CLASS_MAPPING = {\n",
        "    0: \"hole\",\n",
        "    1: \"pole\",\n",
        "    2: \"stairs\",\n",
        "    3: \"bottle/glass\",\n",
        "    4: \"rock\",\n",
        "    5: \"no objects\"\n",
        "}\n",
        "\n",
        "IMG_DIR = \"/content/drive/MyDrive/AIS/dataset/data_subset/images\"\n",
        "OUTPUT_JSON = \"/content/drive/MyDrive/AIS/dataset/prepared/descriptions_llava.json\"\n",
        "ANNOT_JSON = \"/content/drive/MyDrive/AIS/dataset/prepared/img_label.json\"\n",
        "MODEL_NAME = \"llava-hf/llava-1.5-7b-hf\"\n",
        "DEVICE = \"cuda\" if torch.cuda.is_available() else \"cpu\""
      ],
      "metadata": {
        "id": "KCANPJqTgeNg"
      },
      "execution_count": null,
      "outputs": []
    },
    {
      "cell_type": "code",
      "source": [
        "def load_model_and_processor():\n",
        "    logging.info(f\"Loading LLAVA teacher '{MODEL_NAME}' on {DEVICE}\")\n",
        "    processor = AutoProcessor.from_pretrained(MODEL_NAME)\n",
        "    model = LlavaForConditionalGeneration.from_pretrained(MODEL_NAME).to(DEVICE)\n",
        "    model.eval()\n",
        "    return processor, model"
      ],
      "metadata": {
        "id": "7cB7N9aIg4ZR"
      },
      "execution_count": null,
      "outputs": []
    },
    {
      "cell_type": "code",
      "source": [
        "def build_prompt(annotations):\n",
        "    # collect all non‑\"no objects\" labels\n",
        "    labels = []\n",
        "    for ann in annotations:\n",
        "        for c in ann.get(\"class_label\", []):\n",
        "            name = CLASS_MAPPING.get(c, \"\")\n",
        "            if name and name != \"no objects\":\n",
        "                labels.append(name)\n",
        "    if labels:\n",
        "        objs = \", \".join(set(labels))\n",
        "        return (\n",
        "            f\"Detected objects: {objs}. \"\n",
        "            \"Generate crisp, complete description of image and background for visually impaired users, \"\n",
        "            \"mentioning count, shape, and approximate distance and position of the detected objects.\"\n",
        "        )\n",
        "    else:\n",
        "        return (\n",
        "            \"Generate crisp, complete description of image and background for visually impaired users. \"\n",
        "            \"Mention count, shape, approximate distance and position of the objects in the image.\"\n",
        "        )"
      ],
      "metadata": {
        "id": "HnBWUj_-g7NI"
      },
      "execution_count": null,
      "outputs": []
    },
    {
      "cell_type": "code",
      "execution_count": null,
      "metadata": {
        "id": "OmOaBUSFfAE9"
      },
      "outputs": [],
      "source": [
        "def generate_caption_for_image(image_path: str, prompt: str, processor, model, device: str) -> str:\n",
        "    try:\n",
        "        image = Image.open(image_path).convert(\"RGB\")\n",
        "    except Exception as e:\n",
        "        logging.error(f\"Error opening image '{image_path}': {e}\")\n",
        "        return \"\"\n",
        "\n",
        "    \"\"\"\n",
        "    # Use the USER/ASSISTANT template so LLAVA v1.5 knows where the image is\n",
        "    full_prompt = f\"USER: <image>\\n{prompt} ASSISTANT:\"\n",
        "    inputs = processor(\n",
        "        text=full_prompt,\n",
        "        images=image,\n",
        "        return_tensors=\"pt\"\n",
        "    ).to(device)\n",
        "    \"\"\"\n",
        "    conversation = [\n",
        "        {\n",
        "            \"role\": \"user\",\n",
        "            \"content\": [\n",
        "                {\"type\": \"image\"},\n",
        "                {\"type\": \"text\", \"text\": prompt}\n",
        "            ],\n",
        "        }\n",
        "    ]\n",
        "\n",
        "    # 3. Apply the chat template (inserts vision tokens)\n",
        "    text_prompt = processor.apply_chat_template(conversation, add_generation_prompt=True)\n",
        "\n",
        "    # 4. Prepare inputs\n",
        "    inputs = processor(\n",
        "        text=[text_prompt],\n",
        "        images=[image],\n",
        "        padding=True,\n",
        "        return_tensors=\"pt\",\n",
        "    ).to(device)\n",
        "\n",
        "\n",
        "    with torch.no_grad():\n",
        "      # 5. Generate and decode\n",
        "      output_ids = model.generate(**inputs, max_new_tokens=64)\n",
        "    # remove the input prefix tokens, then decode\n",
        "    generated_ids = [\n",
        "        output_ids[i, inputs.input_ids.shape[-1]:] for i in range(output_ids.shape[0])\n",
        "    ]\n",
        "    captions = processor.batch_decode(generated_ids, skip_special_tokens=True, clean_up_tokenization_spaces=True)\n",
        "    return captions[0]"
      ]
    },
    {
      "cell_type": "code",
      "source": [
        "def main():\n",
        "    proc, mdl = load_model_and_processor()\n",
        "\n",
        "    # load annotations mapping\n",
        "    with open(ANNOT_JSON, \"r\") as f:\n",
        "        ann_map = json.load(f)\n",
        "\n",
        "    pseudo = {}\n",
        "    for img_name, anns in ann_map.items():\n",
        "        path = os.path.join(IMG_DIR, img_name)\n",
        "        if not os.path.exists(path):\n",
        "            logging.warning(f\"Image missing: {path}, skipping\")\n",
        "            continue\n",
        "\n",
        "        prompt = build_prompt(anns)\n",
        "        logging.info(f\"Prompt for '{img_name}': {prompt}\")\n",
        "        cap = generate_caption_for_image(path, prompt, proc, mdl, DEVICE)\n",
        "        if cap:\n",
        "            pseudo[img_name] = cap\n",
        "            logging.info(f\"Caption: {cap}\")\n",
        "        else:\n",
        "            logging.warning(f\"No caption for '{img_name}'\")\n",
        "\n",
        "    # write out pseudo captions\n",
        "    os.makedirs(os.path.dirname(OUTPUT_JSON), exist_ok=True)\n",
        "    with open(OUTPUT_JSON, \"w\") as out:\n",
        "        json.dump(pseudo, out, indent=2)\n",
        "    logging.info(f\"Wrote pseudo captions to {OUTPUT_JSON}\")"
      ],
      "metadata": {
        "id": "ahdLQjW_gJPL"
      },
      "execution_count": null,
      "outputs": []
    },
    {
      "cell_type": "code",
      "source": [
        "%%time\n",
        "if __name__ == \"__main__\":\n",
        "    main()"
      ],
      "metadata": {
        "colab": {
          "base_uri": "https://localhost:8080/",
          "height": 121,
          "referenced_widgets": [
            "fbff68590e9747fd92d878e491254c03",
            "e03bdcb96e724d678e08c23f465403b3",
            "5b77f27f2b3049a7bd1ded77d444b812",
            "40dbe550aa1a41659bdf4319b19d900c",
            "16dc9db027e74896ad007ada328914be",
            "e37a4bddba644064970395ecac017435",
            "49af41ed9f8b47288057c20d7c64e1dc",
            "5abb390d8ccf4de9ac264164377c5702",
            "8239cb2c77f74eefb38fa06c662ff8e7",
            "a1eb0a739e4844c7934824c4f9a7e8ed",
            "5dd3ed158e2c48ae8145a39d79c20799"
          ]
        },
        "id": "fvT2KzV6gG5e",
        "outputId": "c1bb0cb0-50e2-4a96-d49e-1ef29e05fa2a"
      },
      "execution_count": null,
      "outputs": [
        {
          "output_type": "stream",
          "name": "stderr",
          "text": [
            "Using a slow image processor as `use_fast` is unset and a slow processor was saved with this model. `use_fast=True` will be the default behavior in v4.52, even if the model was saved with a slow processor. This will result in minor differences in outputs. You'll still be able to use a slow processor with `use_fast=False`.\n"
          ]
        },
        {
          "output_type": "display_data",
          "data": {
            "text/plain": [
              "Loading checkpoint shards:   0%|          | 0/3 [00:00<?, ?it/s]"
            ],
            "application/vnd.jupyter.widget-view+json": {
              "version_major": 2,
              "version_minor": 0,
              "model_id": "fbff68590e9747fd92d878e491254c03"
            }
          },
          "metadata": {}
        },
        {
          "output_type": "stream",
          "name": "stdout",
          "text": [
            "CPU times: user 7min 51s, sys: 20.8 s, total: 8min 12s\n",
            "Wall time: 7min 57s\n"
          ]
        }
      ]
    }
  ]
}