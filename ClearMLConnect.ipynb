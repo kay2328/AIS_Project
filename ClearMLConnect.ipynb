{
 "cells": [
  {
   "cell_type": "markdown",
   "metadata": {},
   "source": [
    "# EnigmaAI MLOps\n",
    "\n",
    "To allow appropriate compute resources allocation (e.g different worker resources) and preventing bottleneck, use the following queue names for different types of tasks when starting a ClearML Agent.\n",
    "\n",
    "## Non GPU tasks - use **`default`** queue\n",
    "\n",
    "- Copying files\n",
    "\n",
    "- Download/upload\n",
    "\n",
    "- Visualisation\n",
    "\n",
    "- Performance metrics display\n",
    "\n",
    "## GPU tasks queues for Hazard Detection\n",
    "\n",
    "- **`hd_preprocessing`** for hazarded detection processing tasks\n",
    "\n",
    "- **`hd_train`** for hazard detection model training\n",
    "\n",
    "- **`hd_deployment`** for evaluation, validation, and deployment\n",
    "\n",
    "- **`hd_serving`** for serving endpoints\n",
    "\n",
    "## GPU tasks queues for Scene Description\n",
    "\n",
    "- **`sd_preprocessing`** for hazarded detection processing tasks\n",
    "\n",
    "- **`sd_train`**  for hazard detection model training\n",
    "\n",
    "- **`sd_deployment`** for evaluation, validation, and deployment\n",
    "\n",
    "- **`sd_serving`** for serving endpoints"
   ]
  },
  {
   "cell_type": "code",
   "execution_count": 5,
   "metadata": {},
   "outputs": [
    {
     "data": {
      "text/plain": [
       "True"
      ]
     },
     "execution_count": 5,
     "metadata": {},
     "output_type": "execute_result"
    }
   ],
   "source": [
    "import clearml\n",
    "\n",
    "# Load environment variables from .env file\n",
    "import os\n",
    "from dotenv import load_dotenv\n",
    "load_dotenv()"
   ]
  },
  {
   "cell_type": "code",
   "execution_count": null,
   "metadata": {},
   "outputs": [
    {
     "data": {
      "text/plain": [
       "'https://app.clear.ml/'"
      ]
     },
     "execution_count": 6,
     "metadata": {},
     "output_type": "execute_result"
    }
   ],
   "source": [
    "#  os.environ[\"CLEARML_WEB_HOST\"]"
   ]
  },
  {
   "cell_type": "code",
   "execution_count": 7,
   "metadata": {},
   "outputs": [],
   "source": [
    "from clearml import Task\n",
    "\n",
    "web_server =  os.environ[\"CLEARML_WEB_HOST\"]\n",
    "api_server = os.environ[\"CLEARML_API_HOST\"]\n",
    "files_server = os.environ[\"CLEARML_FILES_HOST\"]\n",
    "access_key = os.environ[\"CLEARML_API_ACCESS_KEY\"]\n",
    "secret_key = os.environ[\"CLEARML_API_SECRET_KEY\"]\n",
    "\n",
    "Task.set_credentials(web_host=web_server,\n",
    "                     api_host=api_server,\n",
    "                     files_host=files_server,\n",
    "                     key=access_key,\n",
    "                     secret=secret_key\n",
    "                     )"
   ]
  },
  {
   "cell_type": "markdown",
   "metadata": {},
   "source": [
    "# Start / stop Agents"
   ]
  },
  {
   "cell_type": "markdown",
   "metadata": {},
   "source": [
    "## Non GPU tasks - use **`default`** queue"
   ]
  },
  {
   "cell_type": "code",
   "execution_count": null,
   "metadata": {},
   "outputs": [],
   "source": [
    "# Start\n",
    "!clearml-agent daemon --queue \"default\" --detached"
   ]
  },
  {
   "cell_type": "code",
   "execution_count": null,
   "metadata": {},
   "outputs": [],
   "source": [
    "# Stop\n",
    "!clearml-agent daemon --queue \"default\" --detached --stop"
   ]
  },
  {
   "cell_type": "markdown",
   "metadata": {},
   "source": [
    "## GPU tasks - queues for Hazard Detection"
   ]
  },
  {
   "cell_type": "code",
   "execution_count": null,
   "metadata": {},
   "outputs": [],
   "source": [
    "# Start\n",
    "!clearml-agent daemon --queue \"hd_preprocessing\" --detached"
   ]
  },
  {
   "cell_type": "code",
   "execution_count": null,
   "metadata": {},
   "outputs": [],
   "source": [
    "# Stop\n",
    "!clearml-agent daemon --queue \"hd_preprocessing\" --detached --stop"
   ]
  },
  {
   "cell_type": "code",
   "execution_count": null,
   "metadata": {},
   "outputs": [],
   "source": [
    "# Start\n",
    "!clearml-agent daemon --queue \"hd_training\" --detached"
   ]
  },
  {
   "cell_type": "code",
   "execution_count": null,
   "metadata": {},
   "outputs": [],
   "source": [
    "# Stop\n",
    "!clearml-agent daemon --queue \"hd_training\" --detached --stop"
   ]
  },
  {
   "cell_type": "code",
   "execution_count": null,
   "metadata": {},
   "outputs": [],
   "source": [
    "# Start\n",
    "!clearml-agent daemon --queue \"hd_deployment\" --detached"
   ]
  },
  {
   "cell_type": "code",
   "execution_count": null,
   "metadata": {},
   "outputs": [],
   "source": [
    "\n",
    "# Stop\n",
    "!clearml-agent daemon --queue \"hd_deployment\" --detached --stop"
   ]
  },
  {
   "cell_type": "code",
   "execution_count": null,
   "metadata": {},
   "outputs": [],
   "source": [
    "# Start\n",
    "!clearml-agent daemon --queue \"hd_serving\" --detached"
   ]
  },
  {
   "cell_type": "code",
   "execution_count": null,
   "metadata": {},
   "outputs": [],
   "source": [
    "# Stop\n",
    "!clearml-agent daemon --queue \"hd_serving\" --detached --stop"
   ]
  },
  {
   "cell_type": "markdown",
   "metadata": {},
   "source": [
    "\n",
    "## GPU tasks - queues for Scene Description"
   ]
  },
  {
   "cell_type": "code",
   "execution_count": null,
   "metadata": {},
   "outputs": [],
   "source": [
    "# Start\n",
    "!clearml-agent daemon --queue \"sd_preprocessing\" --detached"
   ]
  },
  {
   "cell_type": "code",
   "execution_count": null,
   "metadata": {},
   "outputs": [],
   "source": [
    "# Stop\n",
    "!clearml-agent daemon --queue \"sd_preprocessing\" --detached --stop"
   ]
  },
  {
   "cell_type": "code",
   "execution_count": null,
   "metadata": {},
   "outputs": [],
   "source": [
    "# Start\n",
    "!clearml-agent daemon --queue \"sd_training\" --detached"
   ]
  },
  {
   "cell_type": "code",
   "execution_count": null,
   "metadata": {},
   "outputs": [],
   "source": [
    "# Stop\n",
    "!clearml-agent daemon --queue \"sd_training\" --detached --stop"
   ]
  },
  {
   "cell_type": "code",
   "execution_count": null,
   "metadata": {},
   "outputs": [],
   "source": [
    "# Start\n",
    "!clearml-agent daemon --queue \"sd_deployment\" --detached"
   ]
  },
  {
   "cell_type": "code",
   "execution_count": null,
   "metadata": {},
   "outputs": [],
   "source": [
    "# Stop\n",
    "!clearml-agent daemon --queue \"sd_deployment\" --detached --stop"
   ]
  },
  {
   "cell_type": "code",
   "execution_count": null,
   "metadata": {},
   "outputs": [],
   "source": [
    "# Start\n",
    "!clearml-agent daemon --queue \"sd_serving\" --detached"
   ]
  },
  {
   "cell_type": "code",
   "execution_count": null,
   "metadata": {},
   "outputs": [],
   "source": [
    "# Stop\n",
    "!clearml-agent daemon --queue \"sd_serving\" --detached --stop"
   ]
  }
 ],
 "metadata": {
  "kernelspec": {
   "display_name": "base",
   "language": "python",
   "name": "python3"
  },
  "language_info": {
   "codemirror_mode": {
    "name": "ipython",
    "version": 3
   },
   "file_extension": ".py",
   "mimetype": "text/x-python",
   "name": "python",
   "nbconvert_exporter": "python",
   "pygments_lexer": "ipython3",
   "version": "3.9.13"
  }
 },
 "nbformat": 4,
 "nbformat_minor": 2
}
