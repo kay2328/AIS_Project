{
 "cells": [
  {
   "cell_type": "markdown",
   "metadata": {},
   "source": [
    "# on combined_dataset"
   ]
  },
  {
   "cell_type": "markdown",
   "metadata": {},
   "source": [
    "## Import Necessary Libraries\n",
    "\n"
   ]
  },
  {
   "cell_type": "markdown",
   "metadata": {},
   "source": [
    "Explanation: We import essential libraries for file handling, dataset splitting, model training, and visualization. Logging is configured to track progress and debug issues effectively.\n",
    "\n"
   ]
  },
  {
   "cell_type": "code",
   "execution_count": 5,
   "metadata": {},
   "outputs": [
    {
     "name": "stderr",
     "output_type": "stream",
     "text": [
      "2025-03-28 09:54:54,363 - INFO - Libraries imported and random seeds set for reproducibility.\n"
     ]
    }
   ],
   "source": [
    "import os\n",
    "import shutil\n",
    "import random\n",
    "import numpy as np\n",
    "import matplotlib.pyplot as plt\n",
    "from pathlib import Path\n",
    "from sklearn.model_selection import train_test_split\n",
    "import torch\n",
    "from ultralytics import YOLO\n",
    "import logging\n",
    "import pandas as pd\n",
    "\n",
    "# Set up logging\n",
    "logging.basicConfig(level=logging.INFO, format='%(asctime)s - %(levelname)s - %(message)s')\n",
    "logger = logging.getLogger(__name__)\n",
    "\n",
    "# Set random seeds for reproducibility\n",
    "random.seed(42)\n",
    "np.random.seed(42)\n",
    "torch.manual_seed(42)\n",
    "\n",
    "logger.info(\"Libraries imported and random seeds set for reproducibility.\")\n"
   ]
  },
  {
   "cell_type": "markdown",
   "metadata": {},
   "source": [
    "## Define Paths and Split Dataset\n",
    "\n"
   ]
  },
  {
   "cell_type": "markdown",
   "metadata": {},
   "source": [
    "Explanation: This cell sets up the directory structure and splits the augmented dataset into training, validation, and test sets. It ensures all images have corresponding labels and logs the process for transparency.\n",
    "\n"
   ]
  },
  {
   "cell_type": "code",
   "execution_count": 2,
   "metadata": {},
   "outputs": [
    {
     "name": "stderr",
     "output_type": "stream",
     "text": [
      "2025-03-28 09:49:38,710 - INFO - Created directory: /home/r0jin/projects/EnigmaAI/yolo_dataset/images/train\n",
      "2025-03-28 09:49:38,711 - INFO - Created directory: /home/r0jin/projects/EnigmaAI/yolo_dataset/images/val\n",
      "2025-03-28 09:49:38,712 - INFO - Created directory: /home/r0jin/projects/EnigmaAI/yolo_dataset/images/test\n",
      "2025-03-28 09:49:38,713 - INFO - Created directory: /home/r0jin/projects/EnigmaAI/yolo_dataset/labels/train\n",
      "2025-03-28 09:49:38,714 - INFO - Created directory: /home/r0jin/projects/EnigmaAI/yolo_dataset/labels/val\n",
      "2025-03-28 09:49:38,715 - INFO - Created directory: /home/r0jin/projects/EnigmaAI/yolo_dataset/labels/test\n",
      "2025-03-28 09:49:40,921 - INFO - Dataset integrity verified: All images have corresponding labels.\n",
      "2025-03-28 09:53:58,475 - INFO - Dataset split completed: 49630 train, 10635 val, 10636 test images.\n"
     ]
    }
   ],
   "source": [
    "# Define paths using absolute paths\n",
    "dataset_dir = Path('../yolo_dataset').resolve()  # Resolve to absolute path\n",
    "augmented_images_dir = Path('../datasets/combined_dataset/images').resolve()\n",
    "augmented_labels_dir = Path('../datasets/combined_dataset/labels').resolve()\n",
    "\n",
    "train_images_dir = dataset_dir / 'images' / 'train'\n",
    "val_images_dir = dataset_dir / 'images' / 'val'\n",
    "test_images_dir = dataset_dir / 'images' / 'test'\n",
    "train_labels_dir = dataset_dir / 'labels' / 'train'\n",
    "val_labels_dir = dataset_dir / 'labels' / 'val'\n",
    "test_labels_dir = dataset_dir / 'labels' / 'test'\n",
    "\n",
    "# Create directories if they don’t exist\n",
    "for dir_path in [train_images_dir, val_images_dir, test_images_dir, \n",
    "                 train_labels_dir, val_labels_dir, test_labels_dir]:\n",
    "    dir_path.mkdir(parents=True, exist_ok=True)\n",
    "    logger.info(f\"Created directory: {dir_path}\")\n",
    "\n",
    "# Get list of all images\n",
    "image_files = list(augmented_images_dir.glob('*.jpg'))\n",
    "label_files = [augmented_labels_dir / (img.stem + '.txt') for img in image_files]\n",
    "\n",
    "# Verify dataset integrity\n",
    "missing_labels = [img for img, lbl in zip(image_files, label_files) if not lbl.exists()]\n",
    "if missing_labels:\n",
    "    logger.warning(f\"Found {len(missing_labels)} images without labels: {missing_labels[:5]}\")\n",
    "else:\n",
    "    logger.info(\"Dataset integrity verified: All images have corresponding labels.\")\n",
    "\n",
    "# Split dataset: 70% train, 15% val, 15% test\n",
    "train_images, temp_images = train_test_split(image_files, test_size=0.3, random_state=42)\n",
    "val_images, test_images = train_test_split(temp_images, test_size=0.5, random_state=42)\n",
    "\n",
    "# Function to copy files\n",
    "def copy_files(image_list, target_image_dir, target_label_dir):\n",
    "    for img in image_list:\n",
    "        label = augmented_labels_dir / (img.stem + '.txt')\n",
    "        shutil.copy(img, target_image_dir / img.name)\n",
    "        shutil.copy(label, target_label_dir / label.name)\n",
    "        logger.debug(f\"Copied {img.name} and its label to {target_image_dir} and {target_label_dir}\")\n",
    "\n",
    "# Copy files to respective directories\n",
    "copy_files(train_images, train_images_dir, train_labels_dir)\n",
    "copy_files(val_images, val_images_dir, val_labels_dir)\n",
    "copy_files(test_images, test_images_dir, test_labels_dir)\n",
    "\n",
    "logger.info(f\"Dataset split completed: {len(train_images)} train, {len(val_images)} val, {len(test_images)} test images.\")\n"
   ]
  },
  {
   "cell_type": "markdown",
   "metadata": {},
   "source": [
    "## Create Dataset Configuration File (data.yaml)\n",
    "\n"
   ]
  },
  {
   "cell_type": "markdown",
   "metadata": {},
   "source": [
    "Explanation: The data.yaml file is essential for YOLO training, specifying dataset paths and class names. This matches the classes from the augmentation task.\n",
    "\n"
   ]
  },
  {
   "cell_type": "code",
   "execution_count": null,
   "metadata": {},
   "outputs": [
    {
     "name": "stderr",
     "output_type": "stream",
     "text": [
      "2025-03-26 11:57:32,010 - INFO - Created dataset configuration file at /home/r0jin/projects/EnigmaAI/yolo_dataset/data.yaml\n"
     ]
    }
   ],
   "source": [
    "# Define class names from the preprocessing task\n",
    "class_names = [     \n",
    "    'door',        # 0\n",
    "    'table',       # 1\n",
    "    'openedDoor',  # 2\n",
    "    'chair',       # 3\n",
    "    'pole',        # 4\n",
    "    'bike',        # 5\n",
    "    'truck',       # 6\n",
    "    'car',         # 7\n",
    "    'dog',         # 8\n",
    "    'bus'          # 9\n",
    "]\n",
    "\n",
    "# Create data.yaml content with absolute paths\n",
    "data_yaml_content = f\"\"\"\n",
    "train: {train_images_dir}\n",
    "val: {val_images_dir}\n",
    "test: {test_images_dir}\n",
    "\n",
    "nc: {len(class_names)}\n",
    "names: {class_names}\n",
    "\"\"\"\n",
    "\n",
    "# Save data.yaml\n",
    "data_yaml_path = dataset_dir / 'data.yaml'\n",
    "with open(data_yaml_path, 'w') as f:\n",
    "    f.write(data_yaml_content.strip())\n",
    "logger.info(f\"Created dataset configuration file at {data_yaml_path}\")\n"
   ]
  },
  {
   "cell_type": "markdown",
   "metadata": {},
   "source": [
    "## Set Up YOLO Model and GPU\n",
    "\n"
   ]
  },
  {
   "cell_type": "markdown",
   "metadata": {},
   "source": [
    "Explanation: We leverage the RTX 2070 GPU by checking CUDA availability and load the lightweight YOLOv8 nano model as a baseline, ensuring fast training without optimizations.\n",
    "\n"
   ]
  },
  {
   "cell_type": "code",
   "execution_count": null,
   "metadata": {},
   "outputs": [
    {
     "name": "stderr",
     "output_type": "stream",
     "text": [
      "2025-03-26 11:57:32,090 - INFO - Using device: cuda\n",
      "2025-03-26 11:57:32,091 - INFO - GPU detected: NVIDIA GeForce RTX 2070 with Max-Q Design\n"
     ]
    },
    {
     "name": "stdout",
     "output_type": "stream",
     "text": [
      "Downloading https://github.com/ultralytics/assets/releases/download/v8.3.0/yolov8s.pt to 'yolov8s.pt'...\n"
     ]
    },
    {
     "name": "stderr",
     "output_type": "stream",
     "text": [
      "100%|██████████| 21.5M/21.5M [00:03<00:00, 6.00MB/s]\n",
      "2025-03-26 11:57:38,934 - INFO - Loaded YOLOv8s model and moved to GPU.\n"
     ]
    }
   ],
   "source": [
    "# Check GPU availability (RTX 2070)\n",
    "device = 'cuda' if torch.cuda.is_available() else 'cpu'\n",
    "logger.info(f\"Using device: {device}\")\n",
    "if device == 'cuda':\n",
    "    logger.info(f\"GPU detected: {torch.cuda.get_device_name(0)}\")\n",
    "\n",
    "# Load YOLOv8s model as baseline\n",
    "model = YOLO('yolov8s.pt')  \n",
    "model.to(device)\n",
    "logger.info(\"Loaded YOLOv8s model and moved to GPU.\")"
   ]
  },
  {
   "cell_type": "markdown",
   "metadata": {},
   "source": [
    "## Train the Baseline Model\n",
    "\n"
   ]
  },
  {
   "cell_type": "markdown",
   "metadata": {},
   "source": [
    "Explanation: The model is trained on the augmented dataset using the GPU. Training logs are saved in runs/train/baseline_yolo, and the model weights are explicitly saved for evaluation.\n",
    "\n"
   ]
  },
  {
   "cell_type": "code",
   "execution_count": null,
   "metadata": {},
   "outputs": [
    {
     "name": "stderr",
     "output_type": "stream",
     "text": [
      "2025-03-26 11:57:38,983 - INFO - Starting training with improved settings...\n"
     ]
    },
    {
     "name": "stdout",
     "output_type": "stream",
     "text": [
      "Ultralytics 8.3.96 🚀 Python-3.10.12 torch-2.5.1+cu121 CUDA:0 (NVIDIA GeForce RTX 2070 with Max-Q Design, 7959MiB)\n",
      "\u001b[34m\u001b[1mengine/trainer: \u001b[0mtask=detect, mode=train, model=yolov8s.pt, data=/home/r0jin/projects/EnigmaAI/yolo_dataset/data.yaml, epochs=100, time=None, patience=10, batch=8, imgsz=640, save=True, save_period=-1, cache=False, device=cuda, workers=8, project=runs/train, name=baseline_yolo, exist_ok=False, pretrained=True, optimizer=auto, verbose=True, seed=0, deterministic=True, single_cls=False, rect=False, cos_lr=True, close_mosaic=10, resume=False, amp=True, fraction=1.0, profile=False, freeze=None, multi_scale=False, overlap_mask=True, mask_ratio=4, dropout=0.0, val=True, split=val, save_json=False, save_hybrid=False, conf=None, iou=0.7, max_det=300, half=False, dnn=False, plots=True, source=None, vid_stride=1, stream_buffer=False, visualize=False, augment=False, agnostic_nms=False, classes=None, retina_masks=False, embed=None, show=False, save_frames=False, save_txt=False, save_conf=False, save_crop=False, show_labels=True, show_conf=True, show_boxes=True, line_width=None, format=torchscript, keras=False, optimize=False, int8=False, dynamic=False, simplify=True, opset=None, workspace=None, nms=False, lr0=0.002, lrf=0.01, momentum=0.937, weight_decay=0.0005, warmup_epochs=3, warmup_momentum=0.8, warmup_bias_lr=0.1, box=7.5, cls=0.5, dfl=1.5, pose=12.0, kobj=1.0, nbs=64, hsv_h=0.015, hsv_s=0.7, hsv_v=0.4, degrees=10.0, translate=0.1, scale=0.5, shear=2.0, perspective=0.0, flipud=0.0, fliplr=0.5, bgr=0.0, mosaic=0.5, mixup=0.0, copy_paste=0.0, copy_paste_mode=flip, auto_augment=randaugment, erasing=0.4, crop_fraction=1.0, cfg=None, tracker=botsort.yaml, save_dir=runs/train/baseline_yolo\n",
      "Overriding model.yaml nc=80 with nc=10\n",
      "\n",
      "                   from  n    params  module                                       arguments                     \n",
      "  0                  -1  1       928  ultralytics.nn.modules.conv.Conv             [3, 32, 3, 2]                 \n",
      "  1                  -1  1     18560  ultralytics.nn.modules.conv.Conv             [32, 64, 3, 2]                \n",
      "  2                  -1  1     29056  ultralytics.nn.modules.block.C2f             [64, 64, 1, True]             \n",
      "  3                  -1  1     73984  ultralytics.nn.modules.conv.Conv             [64, 128, 3, 2]               \n",
      "  4                  -1  2    197632  ultralytics.nn.modules.block.C2f             [128, 128, 2, True]           \n",
      "  5                  -1  1    295424  ultralytics.nn.modules.conv.Conv             [128, 256, 3, 2]              \n",
      "  6                  -1  2    788480  ultralytics.nn.modules.block.C2f             [256, 256, 2, True]           \n",
      "  7                  -1  1   1180672  ultralytics.nn.modules.conv.Conv             [256, 512, 3, 2]              \n",
      "  8                  -1  1   1838080  ultralytics.nn.modules.block.C2f             [512, 512, 1, True]           \n",
      "  9                  -1  1    656896  ultralytics.nn.modules.block.SPPF            [512, 512, 5]                 \n",
      " 10                  -1  1         0  torch.nn.modules.upsampling.Upsample         [None, 2, 'nearest']          \n",
      " 11             [-1, 6]  1         0  ultralytics.nn.modules.conv.Concat           [1]                           \n",
      " 12                  -1  1    591360  ultralytics.nn.modules.block.C2f             [768, 256, 1]                 \n",
      " 13                  -1  1         0  torch.nn.modules.upsampling.Upsample         [None, 2, 'nearest']          \n",
      " 14             [-1, 4]  1         0  ultralytics.nn.modules.conv.Concat           [1]                           \n",
      " 15                  -1  1    148224  ultralytics.nn.modules.block.C2f             [384, 128, 1]                 \n",
      " 16                  -1  1    147712  ultralytics.nn.modules.conv.Conv             [128, 128, 3, 2]              \n",
      " 17            [-1, 12]  1         0  ultralytics.nn.modules.conv.Concat           [1]                           \n",
      " 18                  -1  1    493056  ultralytics.nn.modules.block.C2f             [384, 256, 1]                 \n",
      " 19                  -1  1    590336  ultralytics.nn.modules.conv.Conv             [256, 256, 3, 2]              \n",
      " 20             [-1, 9]  1         0  ultralytics.nn.modules.conv.Concat           [1]                           \n",
      " 21                  -1  1   1969152  ultralytics.nn.modules.block.C2f             [768, 512, 1]                 \n",
      " 22        [15, 18, 21]  1   2119918  ultralytics.nn.modules.head.Detect           [10, [128, 256, 512]]         \n",
      "Model summary: 129 layers, 11,139,470 parameters, 11,139,454 gradients, 28.7 GFLOPs\n",
      "\n",
      "Transferred 349/355 items from pretrained weights\n",
      "Freezing layer 'model.22.dfl.conv.weight'\n",
      "\u001b[34m\u001b[1mAMP: \u001b[0mrunning Automatic Mixed Precision (AMP) checks...\n",
      "Downloading https://github.com/ultralytics/assets/releases/download/v8.3.0/yolo11n.pt to 'yolo11n.pt'...\n"
     ]
    },
    {
     "name": "stderr",
     "output_type": "stream",
     "text": [
      "100%|██████████| 5.35M/5.35M [00:01<00:00, 4.62MB/s]\n"
     ]
    },
    {
     "name": "stdout",
     "output_type": "stream",
     "text": [
      "\u001b[34m\u001b[1mAMP: \u001b[0mchecks passed ✅\n"
     ]
    },
    {
     "name": "stderr",
     "output_type": "stream",
     "text": [
      "\u001b[34m\u001b[1mtrain: \u001b[0mScanning /home/r0jin/projects/EnigmaAI/yolo_dataset/labels/train... 49630 images, 41068 backgrounds, 0 corrupt: 100%|██████████| 49630/49630 [00:28<00:00, 1743.69it/s]"
     ]
    },
    {
     "name": "stdout",
     "output_type": "stream",
     "text": [
      "\u001b[34m\u001b[1mtrain: \u001b[0mWARNING ⚠️ /home/r0jin/projects/EnigmaAI/yolo_dataset/images/train/w_10004937.jpg: corrupt JPEG restored and saved\n",
      "\u001b[34m\u001b[1mtrain: \u001b[0mWARNING ⚠️ /home/r0jin/projects/EnigmaAI/yolo_dataset/images/train/w_10005130.jpg: corrupt JPEG restored and saved\n",
      "\u001b[34m\u001b[1mtrain: \u001b[0mWARNING ⚠️ /home/r0jin/projects/EnigmaAI/yolo_dataset/images/train/w_10006682.jpg: corrupt JPEG restored and saved\n",
      "\u001b[34m\u001b[1mtrain: \u001b[0mWARNING ⚠️ /home/r0jin/projects/EnigmaAI/yolo_dataset/images/train/w_10008077.jpg: 1 duplicate labels removed\n",
      "\u001b[34m\u001b[1mtrain: \u001b[0mWARNING ⚠️ /home/r0jin/projects/EnigmaAI/yolo_dataset/images/train/w_20005056.jpg: corrupt JPEG restored and saved\n"
     ]
    },
    {
     "name": "stderr",
     "output_type": "stream",
     "text": [
      "\n"
     ]
    },
    {
     "name": "stdout",
     "output_type": "stream",
     "text": [
      "\u001b[34m\u001b[1mtrain: \u001b[0mNew cache created: /home/r0jin/projects/EnigmaAI/yolo_dataset/labels/train.cache\n",
      "\u001b[34m\u001b[1malbumentations: \u001b[0mBlur(p=0.01, blur_limit=(3, 7)), MedianBlur(p=0.01, blur_limit=(3, 7)), ToGray(p=0.01, num_output_channels=3, method='weighted_average'), CLAHE(p=0.01, clip_limit=(1.0, 4.0), tile_grid_size=(8, 8))\n"
     ]
    },
    {
     "name": "stderr",
     "output_type": "stream",
     "text": [
      "\u001b[34m\u001b[1mval: \u001b[0mScanning /home/r0jin/projects/EnigmaAI/yolo_dataset/labels/val... 10635 images, 8829 backgrounds, 0 corrupt: 100%|██████████| 10635/10635 [00:03<00:00, 2766.99it/s]"
     ]
    },
    {
     "name": "stdout",
     "output_type": "stream",
     "text": [
      "\u001b[34m\u001b[1mval: \u001b[0mWARNING ⚠️ /home/r0jin/projects/EnigmaAI/yolo_dataset/images/val/w_30008475.jpg: 1 duplicate labels removed\n"
     ]
    },
    {
     "name": "stderr",
     "output_type": "stream",
     "text": [
      "\n"
     ]
    },
    {
     "name": "stdout",
     "output_type": "stream",
     "text": [
      "\u001b[34m\u001b[1mval: \u001b[0mNew cache created: /home/r0jin/projects/EnigmaAI/yolo_dataset/labels/val.cache\n",
      "Plotting labels to runs/train/baseline_yolo/labels.jpg... \n",
      "\u001b[34m\u001b[1moptimizer:\u001b[0m 'optimizer=auto' found, ignoring 'lr0=0.002' and 'momentum=0.937' and determining best 'optimizer', 'lr0' and 'momentum' automatically... \n",
      "\u001b[34m\u001b[1moptimizer:\u001b[0m SGD(lr=0.01, momentum=0.9) with parameter groups 57 weight(decay=0.0), 64 weight(decay=0.0005), 63 bias(decay=0.0)\n",
      "Image sizes 640 train, 640 val\n",
      "Using 8 dataloader workers\n",
      "Logging results to \u001b[1mruns/train/baseline_yolo\u001b[0m\n",
      "Starting training for 100 epochs...\n",
      "\n",
      "      Epoch    GPU_mem   box_loss   cls_loss   dfl_loss  Instances       Size\n"
     ]
    },
    {
     "name": "stderr",
     "output_type": "stream",
     "text": [
      "      1/100      3.39G      1.522      4.834      1.227          9        640: 100%|██████████| 6204/6204 [15:38<00:00,  6.61it/s]\n",
      "                 Class     Images  Instances      Box(P          R      mAP50  mAP50-95): 100%|██████████| 665/665 [01:10<00:00,  9.41it/s]\n"
     ]
    },
    {
     "name": "stdout",
     "output_type": "stream",
     "text": [
      "                   all      10635      12538      0.595       0.28      0.286      0.146\n",
      "\n",
      "      Epoch    GPU_mem   box_loss   cls_loss   dfl_loss  Instances       Size\n"
     ]
    },
    {
     "name": "stderr",
     "output_type": "stream",
     "text": [
      "      2/100      3.39G      1.677      2.457      1.353          8        640: 100%|██████████| 6204/6204 [15:10<00:00,  6.82it/s]\n",
      "                 Class     Images  Instances      Box(P          R      mAP50  mAP50-95): 100%|██████████| 665/665 [01:07<00:00,  9.81it/s]\n"
     ]
    },
    {
     "name": "stdout",
     "output_type": "stream",
     "text": [
      "                   all      10635      12538      0.608      0.154      0.167     0.0729\n",
      "\n",
      "      Epoch    GPU_mem   box_loss   cls_loss   dfl_loss  Instances       Size\n"
     ]
    },
    {
     "name": "stderr",
     "output_type": "stream",
     "text": [
      "      3/100      3.39G      1.967      3.006      1.632          0        640: 100%|██████████| 6204/6204 [16:04<00:00,  6.43it/s]\n",
      "                 Class     Images  Instances      Box(P          R      mAP50  mAP50-95): 100%|██████████| 665/665 [01:15<00:00,  8.86it/s]\n"
     ]
    },
    {
     "name": "stdout",
     "output_type": "stream",
     "text": [
      "                   all      10635      12538      0.335      0.112     0.0929     0.0362\n",
      "\n",
      "      Epoch    GPU_mem   box_loss   cls_loss   dfl_loss  Instances       Size\n"
     ]
    },
    {
     "name": "stderr",
     "output_type": "stream",
     "text": [
      "      4/100      3.39G       1.99      3.036      1.721         13        640: 100%|██████████| 6204/6204 [15:07<00:00,  6.83it/s]\n",
      "                 Class     Images  Instances      Box(P          R      mAP50  mAP50-95): 100%|██████████| 665/665 [01:09<00:00,  9.62it/s]\n"
     ]
    },
    {
     "name": "stdout",
     "output_type": "stream",
     "text": [
      "                   all      10635      12538      0.398      0.113      0.121     0.0505\n",
      "\n",
      "      Epoch    GPU_mem   box_loss   cls_loss   dfl_loss  Instances       Size\n"
     ]
    },
    {
     "name": "stderr",
     "output_type": "stream",
     "text": [
      "      5/100      3.39G      1.895       2.79      1.666          9        640: 100%|██████████| 6204/6204 [15:06<00:00,  6.84it/s]\n",
      "                 Class     Images  Instances      Box(P          R      mAP50  mAP50-95): 100%|██████████| 665/665 [01:18<00:00,  8.47it/s]\n"
     ]
    },
    {
     "name": "stdout",
     "output_type": "stream",
     "text": [
      "                   all      10635      12538      0.431      0.153      0.161       0.07\n",
      "\n",
      "      Epoch    GPU_mem   box_loss   cls_loss   dfl_loss  Instances       Size\n"
     ]
    },
    {
     "name": "stderr",
     "output_type": "stream",
     "text": [
      "      6/100      3.39G      1.793      2.576      1.589          2        640: 100%|██████████| 6204/6204 [14:47<00:00,  6.99it/s]\n",
      "                 Class     Images  Instances      Box(P          R      mAP50  mAP50-95): 100%|██████████| 665/665 [01:08<00:00,  9.72it/s]\n"
     ]
    },
    {
     "name": "stdout",
     "output_type": "stream",
     "text": [
      "                   all      10635      12538      0.723      0.175       0.18     0.0805\n",
      "\n",
      "      Epoch    GPU_mem   box_loss   cls_loss   dfl_loss  Instances       Size\n"
     ]
    },
    {
     "name": "stderr",
     "output_type": "stream",
     "text": [
      "      7/100      3.39G      1.759      2.441      1.557          0        640: 100%|██████████| 6204/6204 [15:02<00:00,  6.87it/s]\n",
      "                 Class     Images  Instances      Box(P          R      mAP50  mAP50-95): 100%|██████████| 665/665 [01:07<00:00,  9.84it/s]\n"
     ]
    },
    {
     "name": "stdout",
     "output_type": "stream",
     "text": [
      "                   all      10635      12538      0.742      0.184      0.191     0.0871\n",
      "\n",
      "      Epoch    GPU_mem   box_loss   cls_loss   dfl_loss  Instances       Size\n"
     ]
    },
    {
     "name": "stderr",
     "output_type": "stream",
     "text": [
      "      8/100      3.39G      1.703      2.345      1.521          1        640: 100%|██████████| 6204/6204 [15:02<00:00,  6.87it/s]\n",
      "                 Class     Images  Instances      Box(P          R      mAP50  mAP50-95): 100%|██████████| 665/665 [01:07<00:00,  9.80it/s]\n"
     ]
    },
    {
     "name": "stdout",
     "output_type": "stream",
     "text": [
      "                   all      10635      12538      0.545      0.192      0.211      0.099\n",
      "\n",
      "      Epoch    GPU_mem   box_loss   cls_loss   dfl_loss  Instances       Size\n"
     ]
    },
    {
     "name": "stderr",
     "output_type": "stream",
     "text": [
      "      9/100      3.39G      1.675      2.248      1.493         21        640: 100%|██████████| 6204/6204 [15:14<00:00,  6.79it/s]\n",
      "                 Class     Images  Instances      Box(P          R      mAP50  mAP50-95): 100%|██████████| 665/665 [01:10<00:00,  9.48it/s]\n"
     ]
    },
    {
     "name": "stdout",
     "output_type": "stream",
     "text": [
      "                   all      10635      12538      0.648      0.192      0.205     0.0984\n",
      "\n",
      "      Epoch    GPU_mem   box_loss   cls_loss   dfl_loss  Instances       Size\n"
     ]
    },
    {
     "name": "stderr",
     "output_type": "stream",
     "text": [
      "     10/100      3.39G      1.641      2.226      1.473          0        640: 100%|██████████| 6204/6204 [15:13<00:00,  6.79it/s]\n",
      "                 Class     Images  Instances      Box(P          R      mAP50  mAP50-95): 100%|██████████| 665/665 [01:09<00:00,  9.59it/s]\n"
     ]
    },
    {
     "name": "stdout",
     "output_type": "stream",
     "text": [
      "                   all      10635      12538      0.743       0.22      0.245      0.117\n",
      "\n",
      "      Epoch    GPU_mem   box_loss   cls_loss   dfl_loss  Instances       Size\n"
     ]
    },
    {
     "name": "stderr",
     "output_type": "stream",
     "text": [
      "     11/100      3.39G      1.644      2.217      1.481         13        640: 100%|██████████| 6204/6204 [15:13<00:00,  6.79it/s]\n",
      "                 Class     Images  Instances      Box(P          R      mAP50  mAP50-95): 100%|██████████| 665/665 [01:08<00:00,  9.72it/s]\n"
     ]
    },
    {
     "name": "stdout",
     "output_type": "stream",
     "text": [
      "                   all      10635      12538      0.745      0.218      0.266      0.118\n",
      "\u001b[34m\u001b[1mEarlyStopping: \u001b[0mTraining stopped early as no improvement observed in last 10 epochs. Best results observed at epoch 1, best model saved as best.pt.\n",
      "To update EarlyStopping(patience=10) pass a new patience value, i.e. `patience=300` or use `patience=0` to disable EarlyStopping.\n",
      "\n",
      "11 epochs completed in 3.013 hours.\n",
      "Optimizer stripped from runs/train/baseline_yolo/weights/last.pt, 22.5MB\n",
      "Optimizer stripped from runs/train/baseline_yolo/weights/best.pt, 22.5MB\n",
      "\n",
      "Validating runs/train/baseline_yolo/weights/best.pt...\n",
      "Ultralytics 8.3.96 🚀 Python-3.10.12 torch-2.5.1+cu121 CUDA:0 (NVIDIA GeForce RTX 2070 with Max-Q Design, 7959MiB)\n",
      "Model summary (fused): 72 layers, 11,129,454 parameters, 0 gradients, 28.5 GFLOPs\n"
     ]
    },
    {
     "name": "stderr",
     "output_type": "stream",
     "text": [
      "                 Class     Images  Instances      Box(P          R      mAP50  mAP50-95): 100%|██████████| 665/665 [01:07<00:00,  9.85it/s]\n"
     ]
    },
    {
     "name": "stdout",
     "output_type": "stream",
     "text": [
      "                   all      10635      12538      0.595       0.28      0.286      0.146\n",
      "                  door         49         80          1          0     0.0241     0.0145\n",
      "                 table         24         30          1          0      0.058     0.0176\n",
      "            openedDoor         11         12          0          0          0          0\n",
      "                 chair         17         33       0.81     0.0909      0.204      0.121\n",
      "                  pole       1269       4626      0.326      0.536      0.319     0.0989\n",
      "                  bike        847       2724      0.524      0.531      0.528       0.25\n",
      "                 truck        377        511      0.583      0.131      0.233      0.132\n",
      "                   car       1114       4103      0.648      0.596      0.632      0.324\n",
      "                   dog        117        144      0.426      0.562       0.47       0.28\n",
      "                   bus        217        275      0.636      0.353      0.392      0.225\n",
      "Speed: 0.3ms preprocess, 4.4ms inference, 0.0ms loss, 0.6ms postprocess per image\n",
      "Results saved to \u001b[1mruns/train/baseline_yolo\u001b[0m\n"
     ]
    },
    {
     "name": "stderr",
     "output_type": "stream",
     "text": [
      "2025-03-26 15:01:07,707 - INFO - Model saved to baseline_yolo.pt\n"
     ]
    }
   ],
   "source": [
    "# Setup logging\n",
    "logging.basicConfig(level=logging.INFO)\n",
    "logger = logging.getLogger(__name__)\n",
    "\n",
    "# Load model\n",
    "model = YOLO('yolov8s.pt')  \n",
    "device = 'cuda'  # Or 0 if multiple GPUs\n",
    "\n",
    "# Training parameters\n",
    "epochs = 100  # Increased for more training time\n",
    "batch_size = 8 \n",
    "accumulate = 4  # Gradient accumulation to simulate batch size of 16\n",
    "\n",
    "# Train with adjusted parameters\n",
    "logger.info(\"Starting training with improved settings...\")\n",
    "results = model.train(\n",
    "    data=str(data_yaml_path), \n",
    "    epochs=epochs,\n",
    "    batch=batch_size,\n",
    "    imgsz=640, \n",
    "    patience=10,  # Early stopping if no improvement\n",
    "    device=device,\n",
    "    project='runs/train',\n",
    "    name='baseline_yolo',\n",
    "    save=True,\n",
    "    verbose=True,\n",
    "    # Adjusted augmentation settings\n",
    "    degrees=10.0,  # Reduced rotation\n",
    "    translate=0.1,  # Reduced translation\n",
    "    scale=0.5,    # Reduced scaling\n",
    "    shear=2.0,    # Reduced shearing\n",
    "    mosaic=0.5,   # Lowered mosaic probability\n",
    "    mixup=0.0,    # Disabled mixup\n",
    "    copy_paste=0.0,  # Disabled copy-paste\n",
    "    fliplr=0.5,   # Kept horizontal flip\n",
    "    # Hyperparameters\n",
    "    lr0=0.002,    # Slightly higher learning rate\n",
    "    lrf=0.01,     # Final learning rate factor\n",
    "    momentum=0.937,  \n",
    "    weight_decay=0.0005,  \n",
    "    warmup_epochs=3,  \n",
    "    cos_lr=True,  # Cosine scheduler\n",
    "\n",
    ")\n",
    "\n",
    "# Save model\n",
    "model_path = 'baseline_yolo.pt'\n",
    "model.save(model_path)\n",
    "logger.info(f\"Model saved to {model_path}\")"
   ]
  },
  {
   "cell_type": "markdown",
   "metadata": {},
   "source": [
    "## Evaluate the Model\n",
    "\n"
   ]
  },
  {
   "cell_type": "markdown",
   "metadata": {},
   "source": [
    "Explanation: The trained model is evaluated on the validation set, with key metrics (mAP and loss) logged for documentation, satisfying the deliverable of initial training metrics.\n",
    "\n"
   ]
  },
  {
   "cell_type": "code",
   "execution_count": null,
   "metadata": {},
   "outputs": [
    {
     "name": "stderr",
     "output_type": "stream",
     "text": [
      "2025-03-26 15:01:08,322 - INFO - Loaded model from baseline_yolo.pt\n"
     ]
    },
    {
     "name": "stdout",
     "output_type": "stream",
     "text": [
      "Ultralytics 8.3.96 🚀 Python-3.10.12 torch-2.5.1+cu121 CUDA:0 (NVIDIA GeForce RTX 2070 with Max-Q Design, 7959MiB)\n",
      "Model summary (fused): 72 layers, 11,129,454 parameters, 0 gradients, 28.5 GFLOPs\n"
     ]
    },
    {
     "name": "stderr",
     "output_type": "stream",
     "text": [
      "\u001b[34m\u001b[1mval: \u001b[0mScanning /home/r0jin/projects/EnigmaAI/yolo_dataset/labels/val.cache... 10635 images, 8829 backgrounds, 0 corrupt: 100%|██████████| 10635/10635 [00:00<?, ?it/s]"
     ]
    },
    {
     "name": "stdout",
     "output_type": "stream",
     "text": [
      "\u001b[34m\u001b[1mval: \u001b[0mWARNING ⚠️ /home/r0jin/projects/EnigmaAI/yolo_dataset/images/val/w_30008475.jpg: 1 duplicate labels removed\n"
     ]
    },
    {
     "name": "stderr",
     "output_type": "stream",
     "text": [
      "\n",
      "                 Class     Images  Instances      Box(P          R      mAP50  mAP50-95): 100%|██████████| 665/665 [01:45<00:00,  6.29it/s]\n"
     ]
    },
    {
     "name": "stdout",
     "output_type": "stream",
     "text": [
      "                   all      10635      12538      0.595       0.28      0.286      0.146\n",
      "                  door         49         80          1          0      0.024     0.0144\n",
      "                 table         24         30          1          0     0.0561     0.0173\n",
      "            openedDoor         11         12          0          0          0          0\n",
      "                 chair         17         33      0.811     0.0909      0.204      0.121\n",
      "                  pole       1269       4626      0.326      0.536       0.32      0.099\n",
      "                  bike        847       2724      0.521       0.53      0.527       0.25\n",
      "                 truck        377        511      0.581      0.131      0.233      0.132\n",
      "                   car       1114       4103      0.649      0.597      0.632      0.325\n",
      "                   dog        117        144      0.424      0.563      0.468       0.28\n",
      "                   bus        217        275      0.636      0.353      0.392      0.224\n",
      "Speed: 0.3ms preprocess, 8.3ms inference, 0.0ms loss, 0.5ms postprocess per image\n",
      "Results saved to \u001b[1m/home/r0jin/projects/EnigmaAI/runs/detect/val\u001b[0m\n"
     ]
    },
    {
     "name": "stderr",
     "output_type": "stream",
     "text": [
      "2025-03-26 15:02:58,621 - INFO - Validation mAP50: 0.2857\n",
      "2025-03-26 15:02:58,622 - INFO - Validation mAP50-95: 0.1464\n"
     ]
    }
   ],
   "source": [
    "# Load trained model\n",
    "model = YOLO(model_path)\n",
    "logger.info(f\"Loaded model from {model_path}\")\n",
    "\n",
    "# Perform validation\n",
    "val_results = model.val(data=str(data_yaml_path), split='val')\n",
    "\n",
    "# Extract and log key metrics\n",
    "map50 = val_results.box.map50  # mAP at IoU=0.5\n",
    "map50_95 = val_results.box.map  # mAP at IoU=0.5:0.95\n",
    "\n",
    "logger.info(f\"Validation mAP50: {map50:.4f}\")\n",
    "logger.info(f\"Validation mAP50-95: {map50_95:.4f}\")"
   ]
  },
  {
   "cell_type": "markdown",
   "metadata": {},
   "source": [
    "## Visualize Training Metrics\n",
    "\n"
   ]
  },
  {
   "cell_type": "markdown",
   "metadata": {},
   "source": [
    "Explanation: Training and validation loss, along with mAP, are plotted to visualize model performance. This assumes YOLOv8 saves a results.csv file.\n",
    "\n"
   ]
  },
  {
   "cell_type": "code",
   "execution_count": 9,
   "metadata": {},
   "outputs": [
    {
     "name": "stdout",
     "output_type": "stream",
     "text": [
      "Index(['epoch', 'time', 'train/box_loss', 'train/cls_loss', 'train/dfl_loss',\n",
      "       'metrics/precision(B)', 'metrics/recall(B)', 'metrics/mAP50(B)',\n",
      "       'metrics/mAP50-95(B)', 'val/box_loss', 'val/cls_loss', 'val/dfl_loss',\n",
      "       'lr/pg0', 'lr/pg1', 'lr/pg2'],\n",
      "      dtype='object')\n"
     ]
    }
   ],
   "source": [
    "csv_path = Path('/home/r0jin/projects/EnigmaAI/code/runs/train/baseline_yolo/results.csv')\n",
    "\n",
    "# Read CSV\n",
    "df = pd.read_csv(csv_path)\n",
    "\n",
    "print(df.columns)\n"
   ]
  },
  {
   "cell_type": "code",
   "execution_count": 10,
   "metadata": {},
   "outputs": [
    {
     "data": {
      "image/png": "[encoded data removed]",
      "text/plain": [
       "<Figure size 640x480 with 1 Axes>"
      ]
     },
     "metadata": {},
     "output_type": "display_data"
    },
    {
     "data": {
      "image/png": "[encoded data removed]",
      "text/plain": [
       "<Figure size 640x480 with 1 Axes>"
      ]
     },
     "metadata": {},
     "output_type": "display_data"
    }
   ],
   "source": [
    "# 1) Plot Training vs. Validation Loss (box + cls losses)\n",
    "plt.figure()\n",
    "train_loss = df['train/box_loss'] + df['train/cls_loss']\n",
    "val_loss = df['val/box_loss'] + df['val/cls_loss']\n",
    "plt.plot(df['epoch'], train_loss, label='Training Loss')\n",
    "plt.plot(df['epoch'], val_loss, label='Validation Loss')\n",
    "plt.xlabel('Epoch')\n",
    "plt.ylabel('Loss')\n",
    "plt.title('Training vs Validation Loss')\n",
    "plt.legend()\n",
    "plt.grid(True)\n",
    "plt.tight_layout()\n",
    "plt.show()\n",
    "\n",
    "# 2) Plot mAP over Epochs (mAP50-95)\n",
    "plt.figure()\n",
    "plt.plot(df['epoch'], df['metrics/mAP50-95(B)'], label='mAP50-95 (B)')\n",
    "plt.xlabel('Epoch')\n",
    "plt.ylabel('mAP')\n",
    "plt.title('mAP over Epochs')\n",
    "plt.legend()\n",
    "plt.grid(True)\n",
    "plt.tight_layout()\n",
    "plt.show()\n"
   ]
  },
  {
   "cell_type": "markdown",
   "metadata": {},
   "source": [
    "## Visualize Sample Predictions\n",
    "\n"
   ]
  },
  {
   "cell_type": "markdown",
   "metadata": {},
   "source": [
    "Explanation: We run inference on three random validation images and display the predictions, providing a visual check of the model’s performance.\n",
    "\n"
   ]
  },
  {
   "cell_type": "code",
   "execution_count": null,
   "metadata": {},
   "outputs": [
    {
     "name": "stderr",
     "output_type": "stream",
     "text": [
      "2025-03-26 11:17:19,789 - INFO - Visualizing predictions for 3 sample validation images.\n"
     ]
    },
    {
     "name": "stdout",
     "output_type": "stream",
     "text": [
      "\n",
      "image 1/1 /home/r0jin/projects/EnigmaAI/yolo_dataset/images/val/r_data85_jpg.rf.522e93df2703c9e782c9effabc83fbe6.jpg: 640x640 (no detections), 17.8ms\n",
      "Speed: 1.4ms preprocess, 17.8ms inference, 1.6ms postprocess per image at shape (1, 3, 640, 640)\n"
     ]
    },
    {
     "name": "stderr",
     "output_type": "stream",
     "text": [
      "2025-03-26 11:17:19,855 - INFO - Saved prediction for r_data85_jpg.rf.522e93df2703c9e782c9effabc83fbe6.jpg\n"
     ]
    },
    {
     "name": "stdout",
     "output_type": "stream",
     "text": [
      "\n",
      "image 1/1 /home/r0jin/projects/EnigmaAI/yolo_dataset/images/val/r_465_png_jpg.rf.f86909e909e63225a43f598fbc12aee9.jpg: 640x640 (no detections), 17.5ms\n",
      "Speed: 1.3ms preprocess, 17.5ms inference, 2.0ms postprocess per image at shape (1, 3, 640, 640)\n"
     ]
    },
    {
     "name": "stderr",
     "output_type": "stream",
     "text": [
      "2025-03-26 11:17:19,882 - INFO - Saved prediction for r_465_png_jpg.rf.f86909e909e63225a43f598fbc12aee9.jpg\n"
     ]
    },
    {
     "name": "stdout",
     "output_type": "stream",
     "text": [
      "\n",
      "image 1/1 /home/r0jin/projects/EnigmaAI/yolo_dataset/images/val/r_240522_elevator_1383_jpg.rf.06b3eb4f015aaed0464a748c1adb5f40.jpg: 640x640 (no detections), 17.6ms\n",
      "Speed: 1.3ms preprocess, 17.6ms inference, 1.8ms postprocess per image at shape (1, 3, 640, 640)\n"
     ]
    },
    {
     "name": "stderr",
     "output_type": "stream",
     "text": [
      "2025-03-26 11:17:19,909 - INFO - Saved prediction for r_240522_elevator_1383_jpg.rf.06b3eb4f015aaed0464a748c1adb5f40.jpg\n"
     ]
    }
   ],
   "source": [
    "# Select random validation images\n",
    "sample_images = random.sample(list(val_images_dir.glob('*.jpg')), 3)\n",
    "logger.info(f\"Visualizing predictions for {len(sample_images)} sample validation images.\")\n",
    "\n",
    "for img_path in sample_images:\n",
    "    # Run inference\n",
    "    results = model.predict(img_path, device=device)\n",
    "    \n",
    "    # Show predictions\n",
    "    results[0].save(f\"prediction_{img_path.name}\")\n",
    "    logger.info(f\"Saved prediction for {img_path.name}\")"
   ]
  }
 ],
 "metadata": {
  "kernelspec": {
   "display_name": "enigmaAI_env",
   "language": "python",
   "name": "python3"
  },
  "language_info": {
   "codemirror_mode": {
    "name": "ipython",
    "version": 3
   },
   "file_extension": ".py",
   "mimetype": "text/x-python",
   "name": "python",
   "nbconvert_exporter": "python",
   "pygments_lexer": "ipython3",
   "version": "3.10.12"
  }
 },
 "nbformat": 4,
 "nbformat_minor": 2
}
