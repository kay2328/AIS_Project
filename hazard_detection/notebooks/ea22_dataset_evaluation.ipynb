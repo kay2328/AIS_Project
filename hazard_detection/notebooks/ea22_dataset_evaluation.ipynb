{
 "cells": [
  {
   "cell_type": "markdown",
   "metadata": {},
   "source": [
    "## Imports and Setup\n",
    "\n"
   ]
  },
  {
   "cell_type": "code",
   "execution_count": 1,
   "metadata": {},
   "outputs": [
    {
     "name": "stderr",
     "output_type": "stream",
     "text": [
      "2025-03-21 00:31:04,371 - INFO - Libraries imported and logging configured successfully.\n"
     ]
    }
   ],
   "source": [
    "import os\n",
    "import zipfile\n",
    "import tarfile\n",
    "import json\n",
    "import xml.etree.ElementTree as ET\n",
    "import yaml\n",
    "import pandas as pd\n",
    "import matplotlib.pyplot as plt\n",
    "import seaborn as sns\n",
    "import cv2\n",
    "import numpy as np\n",
    "from pathlib import Path\n",
    "from collections import defaultdict\n",
    "from tqdm import tqdm\n",
    "from PIL import Image\n",
    "import logging\n",
    "import random\n",
    "\n",
    "# Setup logging\n",
    "logging.basicConfig(level=logging.INFO, format='%(asctime)s - %(levelname)s - %(message)s')\n",
    "logger = logging.getLogger(__name__)\n",
    "\n",
    "# Set seaborn style for better visualizations\n",
    "sns.set(style='whitegrid', font_scale=1.2)\n",
    "\n",
    "logger.info(\"Libraries imported and logging configured successfully.\")"
   ]
  },
  {
   "cell_type": "markdown",
   "metadata": {},
   "source": [
    "## Define Constants and Mappings\n",
    "\n"
   ]
  },
  {
   "cell_type": "code",
   "execution_count": 2,
   "metadata": {},
   "outputs": [
    {
     "name": "stderr",
     "output_type": "stream",
     "text": [
      "2025-03-21 00:31:08,122 - INFO - Base directory set to datasets2\n",
      "2025-03-21 00:31:08,124 - INFO - Selected classes: ['pedestrian', 'car', 'bus', 'truck', 'motorcycle', 'bicycle', 'dog', 'door', 'openedDoor', 'chair', 'table', 'pole']\n",
      "2025-03-21 00:31:08,124 - INFO - Class mapping defined with 5 entries\n"
     ]
    }
   ],
   "source": [
    "# Define base directory\n",
    "base_dir = Path('datasets2')\n",
    "\n",
    "# Selected classes for hazard detection\n",
    "selected_classes = [\n",
    "    'pedestrian', 'car', 'bus', 'truck', 'motorcycle', 'bicycle', 'dog',\n",
    "    'door', 'openedDoor', 'chair', 'table', 'pole'\n",
    "]\n",
    "\n",
    "# Class standardization mapping\n",
    "class_mapping = {\n",
    "    'People': 'pedestrian',\n",
    "    'person': 'pedestrian',\n",
    "    'motorbike': 'motorcycle',\n",
    "    'bike': 'bicycle',\n",
    "    'open_door': 'openedDoor'\n",
    "}\n",
    "\n",
    "def standardize_class(cls):\n",
    "    standardized = class_mapping.get(cls, cls)\n",
    "    logger.debug(f\"Standardizing class '{cls}' to '{standardized}'\")\n",
    "    return standardized\n",
    "\n",
    "logger.info(f\"Base directory set to {base_dir}\")\n",
    "logger.info(f\"Selected classes: {selected_classes}\")\n",
    "logger.info(f\"Class mapping defined with {len(class_mapping)} entries\")"
   ]
  },
  {
   "cell_type": "markdown",
   "metadata": {},
   "source": [
    "## Extract Datasets\n",
    "\n"
   ]
  },
  {
   "cell_type": "code",
   "execution_count": 3,
   "metadata": {},
   "outputs": [
    {
     "name": "stderr",
     "output_type": "stream",
     "text": [
      "2025-03-21 00:31:12,119 - INFO - datasets2/ninja already exists, skipping extraction.\n",
      "2025-03-21 00:31:12,121 - INFO - datasets2/WOTR already exists, skipping extraction.\n",
      "2025-03-21 00:31:12,122 - INFO - datasets2/risk-detection-1 already exists, skipping extraction.\n"
     ]
    },
    {
     "name": "stdout",
     "output_type": "stream",
     "text": [
      "Extraction status - ninja: True, WOTR: True, risk-detection: True\n"
     ]
    }
   ],
   "source": [
    "def extract_dataset(file_path, extract_to):\n",
    "    file_path = base_dir / file_path\n",
    "    if not file_path.exists():\n",
    "        logger.error(f\"Dataset file {file_path} not found!\")\n",
    "        return False\n",
    "    if not extract_to.exists():\n",
    "        logger.info(f\"Extracting {file_path} to {extract_to}\")\n",
    "        try:\n",
    "            if file_path.suffix == '.zip':\n",
    "                with zipfile.ZipFile(file_path, 'r') as zip_ref:\n",
    "                    zip_ref.extractall(extract_to)\n",
    "            elif file_path.suffix == '.tar':\n",
    "                with tarfile.open(file_path, 'r') as tar_ref:\n",
    "                    tar_ref.extractall(extract_to)\n",
    "            else:\n",
    "                logger.error(f\"Unsupported file type: {file_path.suffix}\")\n",
    "                return False\n",
    "            logger.info(f\"Successfully extracted to {extract_to}\")\n",
    "        except Exception as e:\n",
    "            logger.error(f\"Extraction failed for {file_path}: {e}\")\n",
    "            return False\n",
    "    else:\n",
    "        logger.info(f\"{extract_to} already exists, skipping extraction.\")\n",
    "    return True\n",
    "\n",
    "# Extract all datasets\n",
    "success_ninja = extract_dataset('ninja.tar', base_dir / 'ninja')\n",
    "success_wotr = extract_dataset('WOTR.zip', base_dir / 'WOTR')\n",
    "success_risk = extract_dataset('risk-detection.zip', base_dir / 'risk-detection-1')\n",
    "\n",
    "print(f\"Extraction status - ninja: {success_ninja}, WOTR: {success_wotr}, risk-detection: {success_risk}\")"
   ]
  },
  {
   "cell_type": "markdown",
   "metadata": {},
   "source": [
    "## Parse Ninja Annotations\n",
    "\n"
   ]
  },
  {
   "cell_type": "code",
   "execution_count": 4,
   "metadata": {},
   "outputs": [
    {
     "name": "stderr",
     "output_type": "stream",
     "text": [
      "2025-03-21 00:31:15,872 - INFO - Found 1012 annotation files in train\n",
      "Parsing ninja train:   0%|          | 0/1012 [00:00<?, ?it/s]2025-03-21 00:31:15,882 - WARNING - No image found for base name DOR_S3_79 in datasets2/ninja/train/img\n",
      "2025-03-21 00:31:15,892 - WARNING - No image found for base name DOR_S3_73 in datasets2/ninja/train/img\n",
      "2025-03-21 00:31:15,895 - WARNING - No image found for base name DOR_S3_22 in datasets2/ninja/train/img\n",
      "2025-03-21 00:31:15,897 - WARNING - No image found for base name DOR_S3_18 in datasets2/ninja/train/img\n",
      "2025-03-21 00:31:15,898 - WARNING - No image found for base name DOR_S3_74 in datasets2/ninja/train/img\n",
      "2025-03-21 00:31:15,899 - WARNING - No image found for base name DOR_S3_19 in datasets2/ninja/train/img\n",
      "2025-03-21 00:31:15,901 - WARNING - No image found for base name DOR_S3_69 in datasets2/ninja/train/img\n",
      "2025-03-21 00:31:15,911 - WARNING - No image found for base name DOR_S3_84 in datasets2/ninja/train/img\n",
      "2025-03-21 00:31:15,912 - WARNING - No image found for base name DOR_S3_68 in datasets2/ninja/train/img\n",
      "2025-03-21 00:31:15,920 - WARNING - No image found for base name DOR_S3_78 in datasets2/ninja/train/img\n",
      "2025-03-21 00:31:15,931 - WARNING - No image found for base name DOR_S3_80 in datasets2/ninja/train/img\n",
      "2025-03-21 00:31:15,936 - WARNING - No image found for base name DOR_S3_71 in datasets2/ninja/train/img\n",
      "2025-03-21 00:31:15,938 - WARNING - No image found for base name DOR_S3_25 in datasets2/ninja/train/img\n",
      "2025-03-21 00:31:15,942 - WARNING - No image found for base name DOR_S3_77 in datasets2/ninja/train/img\n",
      "2025-03-21 00:31:15,951 - WARNING - No image found for base name DOR_S3_85 in datasets2/ninja/train/img\n",
      "2025-03-21 00:31:15,953 - WARNING - No image found for base name DOR_S3_21 in datasets2/ninja/train/img\n",
      "2025-03-21 00:31:15,954 - WARNING - No image found for base name DOR_S3_72 in datasets2/ninja/train/img\n",
      "2025-03-21 00:31:15,960 - WARNING - No image found for base name DOR_S3_75 in datasets2/ninja/train/img\n",
      "2025-03-21 00:31:15,965 - WARNING - No image found for base name DOR_S3_23 in datasets2/ninja/train/img\n",
      "2025-03-21 00:31:15,966 - WARNING - No image found for base name DOR_S3_81 in datasets2/ninja/train/img\n",
      "2025-03-21 00:31:15,968 - WARNING - No image found for base name DOR_S3_24 in datasets2/ninja/train/img\n",
      "2025-03-21 00:31:15,974 - WARNING - No image found for base name DOR_S3_76 in datasets2/ninja/train/img\n",
      "Parsing ninja train: 100%|██████████| 1012/1012 [00:00<00:00, 10369.41it/s]\n",
      "2025-03-21 00:31:15,976 - INFO - Found 230 annotation files in valid\n",
      "Parsing ninja valid:   0%|          | 0/230 [00:00<?, ?it/s]2025-03-21 00:31:15,981 - WARNING - No image found for base name 665a1159-e3ab-4a7d-8770-e08337767339 in datasets2/ninja/valid/img\n",
      "2025-03-21 00:31:15,984 - WARNING - No image found for base name DOR_S3_26 in datasets2/ninja/valid/img\n",
      "2025-03-21 00:31:15,985 - WARNING - No image found for base name DOR_S3_70 in datasets2/ninja/valid/img\n",
      "2025-03-21 00:31:15,995 - WARNING - No image found for base name DOR_S3_20 in datasets2/ninja/valid/img\n",
      "2025-03-21 00:31:15,997 - WARNING - No image found for base name DOR_S3_67 in datasets2/ninja/valid/img\n",
      "2025-03-21 00:31:15,999 - WARNING - No image found for base name DOR_S3_66 in datasets2/ninja/valid/img\n",
      "Parsing ninja valid: 100%|██████████| 230/230 [00:00<00:00, 10051.16it/s]\n",
      "2025-03-21 00:31:16,002 - INFO - Found 107 annotation files in test\n",
      "Parsing ninja test: 100%|██████████| 107/107 [00:00<00:00, 9615.43it/s]\n",
      "2025-03-21 00:31:16,015 - INFO - Parsed ninja dataset: 7318 total annotations\n"
     ]
    },
    {
     "name": "stdout",
     "output_type": "stream",
     "text": [
      "ninja: 1321 images, 10 unique classes\n"
     ]
    }
   ],
   "source": [
    "def find_image_file(img_folder, base_name):\n",
    "    for ext in ['.jpg', '.jpeg', '.png']:\n",
    "        candidate = img_folder / (base_name + ext)\n",
    "        if candidate.exists():\n",
    "            logger.debug(f\"Found image: {candidate}\")\n",
    "            return candidate\n",
    "    logger.warning(f\"No image found for base name {base_name} in {img_folder}\")\n",
    "    return None\n",
    "\n",
    "def parse_ninja_annotations(folder):\n",
    "    class_counts = defaultdict(int)\n",
    "    image_class_map = {}\n",
    "    splits = ['train', 'valid', 'test']\n",
    "    for split in splits:\n",
    "        ann_folder = folder / split / 'ann'\n",
    "        img_folder = folder / split / 'img'\n",
    "        if not ann_folder.exists() or not img_folder.exists():\n",
    "            logger.warning(f\"Missing 'ann' or 'img' folder in {split} split\")\n",
    "            continue\n",
    "        ann_files = list(ann_folder.glob('*.json'))\n",
    "        logger.info(f\"Found {len(ann_files)} annotation files in {split}\")\n",
    "        for ann_file in tqdm(ann_files, desc=f\"Parsing ninja {split}\"):\n",
    "            base_name = ann_file.stem.split('.')[0]  # e.g., '109' from '109.png.json'\n",
    "            img_file = find_image_file(img_folder, base_name)\n",
    "            if not img_file:\n",
    "                continue\n",
    "            img_key = f\"{split}/{img_file.name}\"\n",
    "            try:\n",
    "                with open(ann_file, 'r') as f:\n",
    "                    data = json.load(f)\n",
    "                classes_in_image = set()\n",
    "                for obj in data.get('objects', []):\n",
    "                    cls = standardize_class(obj.get('classTitle', 'unknown'))\n",
    "                    class_counts[cls] += 1\n",
    "                    classes_in_image.add(cls)\n",
    "                image_class_map[img_key] = list(classes_in_image)\n",
    "            except Exception as e:\n",
    "                logger.error(f\"Error parsing {ann_file}: {e}\")\n",
    "    return class_counts, image_class_map\n",
    "\n",
    "# Parse ninja dataset\n",
    "ninja_folder = base_dir / 'ninja'\n",
    "ninja_class_counts, ninja_image_class_map = parse_ninja_annotations(ninja_folder)\n",
    "print(f\"ninja: {len(ninja_image_class_map)} images, {len(ninja_class_counts)} unique classes\")\n",
    "logger.info(f\"Parsed ninja dataset: {sum(ninja_class_counts.values())} total annotations\")"
   ]
  },
  {
   "cell_type": "markdown",
   "metadata": {},
   "source": [
    "## Parse WOTR Annotations\n",
    "\n"
   ]
  },
  {
   "cell_type": "code",
   "execution_count": 5,
   "metadata": {},
   "outputs": [
    {
     "name": "stderr",
     "output_type": "stream",
     "text": [
      "2025-03-21 00:31:20,533 - INFO - Found 13928 XML annotation files in WOTR\n",
      "Parsing WOTR: 100%|██████████| 13928/13928 [00:02<00:00, 5606.16it/s]\n",
      "2025-03-21 00:31:23,021 - INFO - Parsed WOTR dataset: 118475 total annotations\n"
     ]
    },
    {
     "name": "stdout",
     "output_type": "stream",
     "text": [
      "WOTR: 11916 images, 8 unique classes\n"
     ]
    }
   ],
   "source": [
    "def parse_wotr_annotations(folder):\n",
    "    class_counts = defaultdict(int)\n",
    "    image_class_map = {}\n",
    "    ann_folder = folder / 'WOTR' / 'Annotations'\n",
    "    img_folder = folder / 'WOTR' / 'JPEGImages'\n",
    "    # Handle alternate folder structure\n",
    "    if not ann_folder.exists():\n",
    "        ann_folder = folder / 'Annotations'\n",
    "        img_folder = folder / 'JPEGImages'\n",
    "    if not ann_folder.exists() or not img_folder.exists():\n",
    "        logger.error(f\"Cannot find 'Annotations' or 'JPEGImages' in {folder}\")\n",
    "        return class_counts, image_class_map\n",
    "    ann_files = list(ann_folder.glob('*.xml'))\n",
    "    logger.info(f\"Found {len(ann_files)} XML annotation files in WOTR\")\n",
    "    for ann_file in tqdm(ann_files, desc=\"Parsing WOTR\"):\n",
    "        try:\n",
    "            # Use the XML filename (without extension) to find the image\n",
    "            base_name = ann_file.stem  # e.g., '10000001'\n",
    "            img_path = img_folder / f\"{base_name}.jpg\"  # Assuming .jpg extension\n",
    "            if not img_path.exists():\n",
    "                logger.warning(f\"No image found for {ann_file} at {img_path}\")\n",
    "                continue\n",
    "            img_key = img_path.name  # e.g., '10000001.jpg'\n",
    "            # Parse the XML\n",
    "            tree = ET.parse(ann_file)\n",
    "            root = tree.getroot()\n",
    "            classes_in_image = set()\n",
    "            for obj in root.findall('object'):\n",
    "                cls = standardize_class(obj.find('name').text)\n",
    "                if cls in selected_classes:  # Only include selected classes\n",
    "                    class_counts[cls] += 1\n",
    "                    classes_in_image.add(cls)\n",
    "            if classes_in_image:  # Only add to map if there are relevant classes\n",
    "                image_class_map[img_key] = list(classes_in_image)\n",
    "        except Exception as e:\n",
    "            logger.error(f\"Error parsing {ann_file}: {e}\")\n",
    "    return class_counts, image_class_map\n",
    "\n",
    "# Parse WOTR dataset\n",
    "wotr_folder = base_dir / 'WOTR'\n",
    "wotr_class_counts, wotr_image_class_map = parse_wotr_annotations(wotr_folder)\n",
    "print(f\"WOTR: {len(wotr_image_class_map)} images, {len(wotr_class_counts)} unique classes\")\n",
    "logger.info(f\"Parsed WOTR dataset: {sum(wotr_class_counts.values())} total annotations\")"
   ]
  },
  {
   "cell_type": "markdown",
   "metadata": {},
   "source": [
    "## Parse Risk-Detection Annotations\n",
    "\n"
   ]
  },
  {
   "cell_type": "code",
   "execution_count": 6,
   "metadata": {},
   "outputs": [
    {
     "name": "stderr",
     "output_type": "stream",
     "text": [
      "2025-03-21 00:31:25,728 - INFO - Loaded 16 class names from data.yaml\n",
      "2025-03-21 00:31:25,877 - INFO - Found 52670 label files in train\n",
      "Parsing risk-detection train: 100%|██████████| 52670/52670 [00:03<00:00, 15705.18it/s]\n",
      "2025-03-21 00:31:29,253 - INFO - Found 2022 label files in valid\n",
      "Parsing risk-detection valid: 100%|██████████| 2022/2022 [00:00<00:00, 12173.34it/s]\n",
      "2025-03-21 00:31:29,427 - INFO - Found 1114 label files in test\n",
      "Parsing risk-detection test: 100%|██████████| 1114/1114 [00:00<00:00, 13260.95it/s]\n",
      "2025-03-21 00:31:29,514 - INFO - Parsed risk-detection dataset: 218811 total annotations\n"
     ]
    },
    {
     "name": "stdout",
     "output_type": "stream",
     "text": [
      "risk-detection: 55806 images, 16 unique classes\n"
     ]
    }
   ],
   "source": [
    "def parse_risk_detection_annotations(folder):\n",
    "    # Load class names from data.yaml\n",
    "    yaml_path = folder / 'data.yaml'\n",
    "    if not yaml_path.exists():\n",
    "        logger.error(f\"data.yaml not found in {folder}\")\n",
    "        return defaultdict(int), {}\n",
    "    with open(yaml_path, 'r') as f:\n",
    "        data_yaml = yaml.safe_load(f)\n",
    "    class_names = data_yaml.get('names', [])\n",
    "    logger.info(f\"Loaded {len(class_names)} class names from data.yaml\")\n",
    "    \n",
    "    class_counts = defaultdict(int)\n",
    "    image_class_map = {}\n",
    "    splits = ['train', 'valid', 'test']\n",
    "    for split in splits:\n",
    "        label_folder = folder / split / 'labels'\n",
    "        img_folder = folder / split / 'images'\n",
    "        if not label_folder.exists() or not img_folder.exists():\n",
    "            logger.warning(f\"Missing 'labels' or 'images' in {split} split\")\n",
    "            continue\n",
    "        label_files = list(label_folder.glob('*.txt'))\n",
    "        logger.info(f\"Found {len(label_files)} label files in {split}\")\n",
    "        for label_file in tqdm(label_files, desc=f\"Parsing risk-detection {split}\"):\n",
    "            base_name = label_file.stem\n",
    "            img_file = find_image_file(img_folder, base_name)\n",
    "            if not img_file:\n",
    "                continue\n",
    "            img_key = f\"{split}/{img_file.name}\"\n",
    "            try:\n",
    "                with open(label_file, 'r') as f:\n",
    "                    lines = f.readlines()\n",
    "                classes_in_image = set()\n",
    "                for line in lines:\n",
    "                    parts = line.strip().split()\n",
    "                    if not parts:\n",
    "                        continue\n",
    "                    idx = int(parts[0])\n",
    "                    cls = standardize_class(class_names[idx]) if idx < len(class_names) else f\"unknown_{idx}\"\n",
    "                    class_counts[cls] += 1\n",
    "                    classes_in_image.add(cls)\n",
    "                image_class_map[img_key] = list(classes_in_image)\n",
    "            except Exception as e:\n",
    "                logger.error(f\"Error parsing {label_file}: {e}\")\n",
    "    return class_counts, image_class_map\n",
    "\n",
    "# Parse risk-detection dataset\n",
    "risk_folder = base_dir / 'risk-detection-1'\n",
    "risk_class_counts, risk_image_class_map = parse_risk_detection_annotations(risk_folder)\n",
    "print(f\"risk-detection: {len(risk_image_class_map)} images, {len(risk_class_counts)} unique classes\")\n",
    "logger.info(f\"Parsed risk-detection dataset: {sum(risk_class_counts.values())} total annotations\")"
   ]
  },
  {
   "cell_type": "markdown",
   "metadata": {},
   "source": [
    "## Analyze Image Properties\n",
    "\n"
   ]
  },
  {
   "cell_type": "code",
   "execution_count": 7,
   "metadata": {},
   "outputs": [
    {
     "name": "stderr",
     "output_type": "stream",
     "text": [
      "2025-03-21 00:31:30,374 - INFO - Found 643 images with selected classes in ninja\n",
      "2025-03-21 00:31:30,375 - INFO - Sampling 100 out of 643 relevant images for ninja\n",
      "Analyzing ninja images: 100%|██████████| 100/100 [00:01<00:00, 50.81it/s]\n",
      "2025-03-21 00:31:32,345 - INFO - Completed property analysis for ninja with 100 images\n",
      "2025-03-21 00:31:32,353 - INFO - Found 11916 images with selected classes in WOTR\n",
      "2025-03-21 00:31:32,353 - INFO - Sampling 100 out of 11916 relevant images for WOTR\n",
      "Analyzing WOTR images: 100%|██████████| 100/100 [00:00<00:00, 102.80it/s]\n",
      "2025-03-21 00:31:33,328 - INFO - Completed property analysis for WOTR with 100 images\n",
      "2025-03-21 00:31:33,364 - INFO - Found 6507 images with selected classes in risk-detection-1\n",
      "2025-03-21 00:31:33,364 - INFO - Sampling 100 out of 6507 relevant images for risk-detection-1\n",
      "Analyzing risk-detection-1 images: 100%|██████████| 100/100 [00:00<00:00, 140.96it/s]\n",
      "2025-03-21 00:31:34,077 - INFO - Completed property analysis for risk-detection-1 with 100 images\n"
     ]
    }
   ],
   "source": [
    "def analyze_image_properties(image_class_map, dataset_name, sample_size=100):\n",
    "    \"\"\"\n",
    "    Analyze properties of a random sample of images containing selected classes.\n",
    "    \n",
    "    Args:\n",
    "        image_class_map (dict): Mapping of image keys to their classes.\n",
    "        dataset_name (str): Name of the dataset ('ninja', 'WOTR', 'risk-detection-1').\n",
    "        sample_size (int): Number of images to sample (default: 100).\n",
    "    \n",
    "    Returns:\n",
    "        dict: Properties including sizes, color, blurriness, brightness, and object counts.\n",
    "    \"\"\"\n",
    "    properties = {\n",
    "        'sizes': [], 'is_colored': [], 'blurriness': [],\n",
    "        'brightness': [], 'objects_per_image': []\n",
    "    }\n",
    "    \n",
    "    # Filter images that contain at least one selected class\n",
    "    relevant_images = [\n",
    "        img for img, classes in image_class_map.items()\n",
    "        if any(cls in selected_classes for cls in classes)\n",
    "    ]\n",
    "    logger.info(f\"Found {len(relevant_images)} images with selected classes in {dataset_name}\")\n",
    "    \n",
    "    if not relevant_images:\n",
    "        logger.warning(f\"No images with selected classes found in {dataset_name}\")\n",
    "        return properties\n",
    "    \n",
    "    # Sample 100 images\n",
    "    if len(relevant_images) > sample_size:\n",
    "        keys = random.sample(relevant_images, sample_size)\n",
    "        logger.info(f\"Sampling {sample_size} out of {len(relevant_images)} relevant images for {dataset_name}\")\n",
    "    else:\n",
    "        keys = relevant_images\n",
    "        logger.info(f\"Using all {len(keys)} relevant images for {dataset_name}\")\n",
    "    \n",
    "    for img_key in tqdm(keys, desc=f\"Analyzing {dataset_name} images\"):\n",
    "        try:\n",
    "            \n",
    "            if dataset_name == 'ninja':\n",
    "                split, img_name = img_key.split('/')\n",
    "                img_path = base_dir / 'ninja' / split / 'img' / img_name\n",
    "            elif dataset_name == 'WOTR':\n",
    "                img_path = base_dir / 'WOTR' / 'WOTR' /'JPEGImages' / img_key\n",
    "            elif dataset_name == 'risk-detection-1':\n",
    "                split, img_name = img_key.split('/')\n",
    "                img_path = base_dir / 'risk-detection-1' / split / 'images' / img_name\n",
    "            else:\n",
    "                logger.error(f\"Unknown dataset: {dataset_name}\")\n",
    "                continue\n",
    "            \n",
    "            if not img_path.exists():\n",
    "                logger.warning(f\"Image {img_path} not found\")\n",
    "                continue\n",
    "            \n",
    "            # Analyze size and color\n",
    "            with Image.open(img_path) as img:\n",
    "                properties['sizes'].append(img.size)\n",
    "                properties['is_colored'].append(img.mode == 'RGB')\n",
    "            \n",
    "            # Analyze blurriness (Laplacian variance)\n",
    "            img_cv = cv2.imread(str(img_path), cv2.IMREAD_GRAYSCALE)\n",
    "            if img_cv is not None:\n",
    "                variance = cv2.Laplacian(img_cv, cv2.CV_64F).var()\n",
    "                properties['blurriness'].append(variance)\n",
    "            else:\n",
    "                properties['blurriness'].append(0)\n",
    "                logger.warning(f\"Failed to load {img_path} for blurriness analysis\")\n",
    "            \n",
    "            # Analyze brightness\n",
    "            img_rgb = cv2.imread(str(img_path))\n",
    "            if img_rgb is not None:\n",
    "                brightness = np.mean(img_rgb)\n",
    "                properties['brightness'].append(brightness)\n",
    "            else:\n",
    "                properties['brightness'].append(0)\n",
    "                logger.warning(f\"Failed to load {img_path} for brightness analysis\")\n",
    "            \n",
    "            # Count objects\n",
    "            properties['objects_per_image'].append(len(image_class_map[img_key]))\n",
    "        \n",
    "        except Exception as e:\n",
    "            logger.error(f\"Error analyzing {img_path}: {e}\")\n",
    "    \n",
    "    logger.info(f\"Completed property analysis for {dataset_name} with {len(properties['sizes'])} images\")\n",
    "    return properties\n",
    "\n",
    "\n",
    "# Analyze properties for each dataset\n",
    "ninja_properties = analyze_image_properties(ninja_image_class_map, 'ninja')\n",
    "wotr_properties = analyze_image_properties(wotr_image_class_map, 'WOTR')\n",
    "risk_properties = analyze_image_properties(risk_image_class_map, 'risk-detection-1')"
   ]
  },
  {
   "cell_type": "markdown",
   "metadata": {},
   "source": [
    "## Generate Visualizations\n",
    "\n"
   ]
  },
  {
   "cell_type": "code",
   "execution_count": 8,
   "metadata": {},
   "outputs": [
    {
     "name": "stderr",
     "output_type": "stream",
     "text": [
      "2025-03-21 00:31:45,463 - INFO - Generating visualizations for ninja\n",
      "2025-03-21 00:31:45,464 - INFO - Generating visualizations for WOTR\n",
      "2025-03-21 00:31:45,464 - INFO - Generating visualizations for risk-detection-1\n"
     ]
    }
   ],
   "source": [
    "def plot_class_distribution(counts, dataset_name, selected_only=False):\n",
    "    if selected_only:\n",
    "        data = {k: v for k, v in counts.items() if k in selected_classes}\n",
    "        title = f\"Selected Class Distribution - {dataset_name}\"\n",
    "        filename = f\"{dataset_name}_selected_class_distribution.png\"\n",
    "    else:\n",
    "        data = counts\n",
    "        title = f\"Full Class Distribution - {dataset_name}\"\n",
    "        filename = f\"{dataset_name}_full_class_distribution.png\"\n",
    "    \n",
    "    df = pd.DataFrame({'Class': list(data.keys()), 'Count': list(data.values())}).sort_values('Count', ascending=False)\n",
    "    plt.figure(figsize=(12, 6))\n",
    "    ax = sns.barplot(data=df, x='Class', y='Count', palette='Set2')\n",
    "    for p in ax.patches:\n",
    "        ax.annotate(f'{int(p.get_height())}', (p.get_x() + p.get_width() / 2, p.get_height()), ha='center', va='bottom')\n",
    "    plt.title(title, fontsize=16)\n",
    "    plt.xlabel('Class', fontsize=14)\n",
    "    plt.ylabel('Instance Count', fontsize=14)\n",
    "    plt.xticks(rotation=45, ha='right', fontsize=12)\n",
    "    plt.tight_layout()\n",
    "    plt.savefig(filename, dpi=300, bbox_inches='tight')\n",
    "    plt.show()\n",
    "    plt.close()\n",
    "    logger.info(f\"Saved plot: {filename}\")\n",
    "\n",
    "def plot_image_properties(properties, dataset_name):\n",
    "    \"\"\"\n",
    "    Generate plots for image properties.\n",
    "    \n",
    "    Args:\n",
    "        properties (dict): Dictionary containing image properties.\n",
    "        dataset_name (str): Name of the dataset.\n",
    "    \"\"\"\n",
    "    if not properties['sizes']:\n",
    "        logger.warning(f\"No image properties to plot for {dataset_name}\")\n",
    "        return\n",
    "    \n",
    "    # Image Size Distribution\n",
    "    widths, heights = zip(*properties['sizes'])\n",
    "    plt.figure(figsize=(10, 6))\n",
    "    sns.histplot(widths, bins=30, color='blue', label='Width', kde=True, alpha=0.6)\n",
    "    sns.histplot(heights, bins=30, color='red', label='Height', kde=True, alpha=0.6)\n",
    "    plt.title(f\"Image Size Distribution - {dataset_name}\", fontsize=16)\n",
    "    plt.xlabel('Pixels', fontsize=14)\n",
    "    plt.ylabel('Frequency', fontsize=14)\n",
    "    plt.legend()\n",
    "    plt.savefig(f\"{dataset_name}_size_distribution.png\", dpi=300, bbox_inches='tight')\n",
    "    plt.show()\n",
    "    plt.close()\n",
    "    \n",
    "    # Color Distribution\n",
    "    color_counts = {\n",
    "        'Colored': sum(properties['is_colored']),\n",
    "        'Grayscale': len(properties['is_colored']) - sum(properties['is_colored'])\n",
    "    }\n",
    "    df = pd.DataFrame({'Category': list(color_counts.keys()), 'Count': list(color_counts.values())})\n",
    "    plt.figure(figsize=(6, 4))\n",
    "    ax = sns.barplot(data=df, x='Category', y='Count', palette='viridis')\n",
    "    for p in ax.patches:\n",
    "        ax.annotate(f'{int(p.get_height())}', (p.get_x() + p.get_width() / 2, p.get_height()), ha='center', va='bottom')\n",
    "    plt.title(f\"Color Distribution - {dataset_name}\", fontsize=16)\n",
    "    plt.ylabel('Count', fontsize=14)\n",
    "    plt.savefig(f\"{dataset_name}_color_distribution.png\", dpi=300, bbox_inches='tight')\n",
    "    plt.show()\n",
    "    plt.close()\n",
    "    \n",
    "    # Blurriness Distribution\n",
    "    blurry = sum(1 for b in properties['blurriness'] if b < 100)\n",
    "    df = pd.DataFrame({\n",
    "        'Category': ['Blurry (<100)', 'Clear (≥100)'],\n",
    "        'Count': [blurry, len(properties['blurriness']) - blurry]\n",
    "    })\n",
    "    plt.figure(figsize=(6, 4))\n",
    "    ax = sns.barplot(data=df, x='Category', y='Count', palette='magma')\n",
    "    for p in ax.patches:\n",
    "        ax.annotate(f'{int(p.get_height())}', (p.get_x() + p.get_width() / 2, p.get_height()), ha='center', va='bottom')\n",
    "    plt.title(f\"Blurriness Distribution - {dataset_name}\", fontsize=16)\n",
    "    plt.ylabel('Count', fontsize=14)\n",
    "    plt.savefig(f\"{dataset_name}_blurriness_distribution.png\", dpi=300, bbox_inches='tight')\n",
    "    plt.show()\n",
    "    plt.close()\n",
    "    \n",
    "    # Lighting Distribution\n",
    "    night = sum(1 for b in properties['brightness'] if b < 100)\n",
    "    df = pd.DataFrame({\n",
    "        'Category': ['Night (<100)', 'Day (≥100)'],\n",
    "        'Count': [night, len(properties['brightness']) - night]\n",
    "    })\n",
    "    plt.figure(figsize=(6, 4))\n",
    "    ax = sns.barplot(data=df, x='Category', y='Count', palette='coolwarm')\n",
    "    for p in ax.patches:\n",
    "        ax.annotate(f'{int(p.get_height())}', (p.get_x() + p.get_width() / 2, p.get_height()), ha='center', va='bottom')\n",
    "    plt.title(f\"Lighting Distribution - {dataset_name}\", fontsize=16)\n",
    "    plt.ylabel('Count', fontsize=14)\n",
    "    plt.savefig(f\"{dataset_name}_lighting_distribution.png\", dpi=300, bbox_inches='tight')\n",
    "    plt.show()\n",
    "    plt.close()\n",
    "    \n",
    "    # Objects per Image\n",
    "    plt.figure(figsize=(10, 6))\n",
    "    sns.histplot(properties['objects_per_image'], bins=20, color='purple', kde=True)\n",
    "    plt.title(f\"Objects per Image - {dataset_name}\", fontsize=16)\n",
    "    plt.xlabel('Number of Objects', fontsize=14)\n",
    "    plt.ylabel('Frequency', fontsize=14)\n",
    "    plt.savefig(f\"{dataset_name}_objects_per_image.png\", dpi=300, bbox_inches='tight')\n",
    "    plt.show()\n",
    "    plt.close()\n",
    "    logger.info(f\"Saved all property plots for {dataset_name}\")\n",
    "\n",
    "# Generate visualizations\n",
    "for dataset, class_counts, properties in [\n",
    "    ('ninja', ninja_class_counts, ninja_properties),\n",
    "    ('WOTR', wotr_class_counts, wotr_properties),\n",
    "    ('risk-detection-1', risk_class_counts, risk_properties)\n",
    "]:\n",
    "    logger.info(f\"Generating visualizations for {dataset}\")\n",
    "    #plot_class_distribution(class_counts, dataset)\n",
    "    #plot_class_distribution(class_counts, dataset, selected_only=True)\n",
    "    #plot_image_properties(properties, dataset)"
   ]
  },
  {
   "cell_type": "markdown",
   "metadata": {},
   "source": [
    "## Combine Class Distributions and Generate Final Plot\n",
    "\n"
   ]
  },
  {
   "cell_type": "code",
   "execution_count": 15,
   "metadata": {},
   "outputs": [
    {
     "name": "stderr",
     "output_type": "stream",
     "text": [
      "/tmp/ipykernel_101417/639102057.py:11: FutureWarning: \n",
      "\n",
      "Passing `palette` without assigning `hue` is deprecated and will be removed in v0.14.0. Assign the `x` variable to `hue` and set `legend=False` for the same effect.\n",
      "\n",
      "  ax = sns.barplot(data=df, x='Class', y='Count', palette='Set3')\n"
     ]
    },
    {
     "data": {
      "image/png": "[encoded data removed]",
      "text/plain": [
       "<Figure size 1200x600 with 1 Axes>"
      ]
     },
     "metadata": {},
     "output_type": "display_data"
    },
    {
     "name": "stderr",
     "output_type": "stream",
     "text": [
      "2025-03-21 00:33:36,044 - INFO - Analysis complete. All visualizations saved.\n"
     ]
    },
    {
     "name": "stdout",
     "output_type": "stream",
     "text": [
      "\n",
      "Combined Selected Classes: {'door': 603, 'table': 315, 'openedDoor': 111, 'chair': 340, 'pole': 31188, 'bicycle': 5995, 'truck': 3537, 'car': 27583, 'pedestrian': 98660, 'motorcycle': 12162, 'dog': 1022, 'bus': 1787}\n"
     ]
    }
   ],
   "source": [
    "# Combine class counts for selected classes\n",
    "combined_counts = defaultdict(int)\n",
    "for class_counts in [ninja_class_counts, wotr_class_counts, risk_class_counts]:\n",
    "    for cls, count in class_counts.items():\n",
    "        if cls in selected_classes:\n",
    "            combined_counts[cls] += count\n",
    "\n",
    "# Plot combined class distribution\n",
    "df = pd.DataFrame({'Class': list(combined_counts.keys()), 'Count': list(combined_counts.values())}).sort_values('Count', ascending=False)\n",
    "plt.figure(figsize=(12, 6))\n",
    "ax = sns.barplot(data=df, x='Class', y='Count', palette='Set3')\n",
    "for p in ax.patches:\n",
    "    ax.annotate(f'{int(p.get_height())}', (p.get_x() + p.get_width() / 2, p.get_height()), ha='center', va='bottom')\n",
    "plt.title(\"Combined Class Distribution (Selected Classes)\", fontsize=16)\n",
    "plt.xlabel('Class', fontsize=14)\n",
    "plt.ylabel('Instance Count', fontsize=14)\n",
    "plt.xticks(rotation=45, ha='right', fontsize=12)\n",
    "plt.tight_layout()\n",
    "plt.savefig(\"combined_class_distribution.png\", dpi=300, bbox_inches='tight')\n",
    "plt.show()\n",
    "plt.close()\n",
    "\n",
    "print(\"\\nCombined Selected Classes:\", dict(combined_counts))\n",
    "logger.info(\"Analysis complete. All visualizations saved.\")"
   ]
  }
 ],
 "metadata": {
  "kernelspec": {
   "display_name": "enigmaAI_env",
   "language": "python",
   "name": "python3"
  },
  "language_info": {
   "codemirror_mode": {
    "name": "ipython",
    "version": 3
   },
   "file_extension": ".py",
   "mimetype": "text/x-python",
   "name": "python",
   "nbconvert_exporter": "python",
   "pygments_lexer": "ipython3",
   "version": "3.10.12"
  }
 },
 "nbformat": 4,
 "nbformat_minor": 2
}
